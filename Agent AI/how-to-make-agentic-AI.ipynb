{
 "cells": [
  {
   "cell_type": "code",
   "execution_count": 1,
   "id": "5db692dc-e914-4c3f-bdeb-0aa81a993381",
   "metadata": {},
   "outputs": [],
   "source": [
    "import pandas as pd\n",
    "import glob\n",
    "import os\n",
    "import warnings"
   ]
  },
  {
   "cell_type": "code",
   "execution_count": 2,
   "id": "ebf1496b-5112-4664-bac6-0a730ce8b212",
   "metadata": {},
   "outputs": [],
   "source": [
    "import regex\n",
    "import time"
   ]
  },
  {
   "cell_type": "code",
   "execution_count": 8,
   "id": "798cbed1-0fd5-42a3-b468-bfdbfc90c584",
   "metadata": {},
   "outputs": [
    {
     "data": {
      "text/plain": [
       "True"
      ]
     },
     "execution_count": 8,
     "metadata": {},
     "output_type": "execute_result"
    }
   ],
   "source": [
    "from dotenv import load_dotenv\n",
    "load_dotenv() # this function expects a .env file"
   ]
  },
  {
   "cell_type": "code",
   "execution_count": 3,
   "id": "6607ef2e-d50d-4355-bb9e-9525e11e3902",
   "metadata": {},
   "outputs": [
    {
     "name": "stdout",
     "output_type": "stream",
     "text": [
      "Collecting phidata\n",
      "  Downloading phidata-2.7.8-py3-none-any.whl.metadata (38 kB)\n",
      "Collecting docstring-parser (from phidata)\n",
      "  Downloading docstring_parser-0.16-py3-none-any.whl.metadata (3.0 kB)\n",
      "Requirement already satisfied: gitpython in c:\\users\\ayush\\appdata\\local\\programs\\python\\python311\\lib\\site-packages (from phidata) (3.1.43)\n",
      "Requirement already satisfied: httpx in c:\\users\\ayush\\appdata\\local\\programs\\python\\python311\\lib\\site-packages (from phidata) (0.28.1)\n",
      "Requirement already satisfied: pydantic in c:\\users\\ayush\\appdata\\local\\programs\\python\\python311\\lib\\site-packages (from phidata) (2.9.2)\n",
      "Requirement already satisfied: pydantic-settings in c:\\users\\ayush\\appdata\\local\\programs\\python\\python311\\lib\\site-packages (from phidata) (2.5.2)\n",
      "Requirement already satisfied: python-dotenv in c:\\users\\ayush\\appdata\\local\\programs\\python\\python311\\lib\\site-packages (from phidata) (1.0.1)\n",
      "Requirement already satisfied: pyyaml in c:\\users\\ayush\\appdata\\local\\programs\\python\\python311\\lib\\site-packages (from phidata) (6.0.1)\n",
      "Requirement already satisfied: rich in c:\\users\\ayush\\appdata\\local\\programs\\python\\python311\\lib\\site-packages (from phidata) (13.7.1)\n",
      "Collecting tomli (from phidata)\n",
      "  Downloading tomli-2.2.1-cp311-cp311-win_amd64.whl.metadata (12 kB)\n",
      "Requirement already satisfied: typer in c:\\users\\ayush\\appdata\\local\\programs\\python\\python311\\lib\\site-packages (from phidata) (0.12.3)\n",
      "Requirement already satisfied: typing-extensions in c:\\users\\ayush\\appdata\\local\\programs\\python\\python311\\lib\\site-packages (from phidata) (4.12.2)\n",
      "Requirement already satisfied: gitdb<5,>=4.0.1 in c:\\users\\ayush\\appdata\\local\\programs\\python\\python311\\lib\\site-packages (from gitpython->phidata) (4.0.11)\n",
      "Requirement already satisfied: anyio in c:\\users\\ayush\\appdata\\local\\programs\\python\\python311\\lib\\site-packages (from httpx->phidata) (4.4.0)\n",
      "Requirement already satisfied: certifi in c:\\users\\ayush\\appdata\\local\\programs\\python\\python311\\lib\\site-packages (from httpx->phidata) (2024.12.14)\n",
      "Requirement already satisfied: httpcore==1.* in c:\\users\\ayush\\appdata\\local\\programs\\python\\python311\\lib\\site-packages (from httpx->phidata) (1.0.5)\n",
      "Requirement already satisfied: idna in c:\\users\\ayush\\appdata\\local\\programs\\python\\python311\\lib\\site-packages (from httpx->phidata) (3.6)\n",
      "Requirement already satisfied: h11<0.15,>=0.13 in c:\\users\\ayush\\appdata\\local\\programs\\python\\python311\\lib\\site-packages (from httpcore==1.*->httpx->phidata) (0.14.0)\n",
      "Requirement already satisfied: annotated-types>=0.6.0 in c:\\users\\ayush\\appdata\\local\\programs\\python\\python311\\lib\\site-packages (from pydantic->phidata) (0.7.0)\n",
      "Requirement already satisfied: pydantic-core==2.23.4 in c:\\users\\ayush\\appdata\\local\\programs\\python\\python311\\lib\\site-packages (from pydantic->phidata) (2.23.4)\n",
      "Requirement already satisfied: markdown-it-py>=2.2.0 in c:\\users\\ayush\\appdata\\local\\programs\\python\\python311\\lib\\site-packages (from rich->phidata) (3.0.0)\n",
      "Requirement already satisfied: pygments<3.0.0,>=2.13.0 in c:\\users\\ayush\\appdata\\local\\programs\\python\\python311\\lib\\site-packages (from rich->phidata) (2.18.0)\n",
      "Requirement already satisfied: click>=8.0.0 in c:\\users\\ayush\\appdata\\local\\programs\\python\\python311\\lib\\site-packages (from typer->phidata) (8.1.7)\n",
      "Requirement already satisfied: shellingham>=1.3.0 in c:\\users\\ayush\\appdata\\local\\programs\\python\\python311\\lib\\site-packages (from typer->phidata) (1.5.4)\n",
      "Requirement already satisfied: colorama in c:\\users\\ayush\\appdata\\local\\programs\\python\\python311\\lib\\site-packages (from click>=8.0.0->typer->phidata) (0.4.6)\n",
      "Requirement already satisfied: smmap<6,>=3.0.1 in c:\\users\\ayush\\appdata\\local\\programs\\python\\python311\\lib\\site-packages (from gitdb<5,>=4.0.1->gitpython->phidata) (5.0.1)\n",
      "Requirement already satisfied: mdurl~=0.1 in c:\\users\\ayush\\appdata\\local\\programs\\python\\python311\\lib\\site-packages (from markdown-it-py>=2.2.0->rich->phidata) (0.1.2)\n",
      "Requirement already satisfied: sniffio>=1.1 in c:\\users\\ayush\\appdata\\local\\programs\\python\\python311\\lib\\site-packages (from anyio->httpx->phidata) (1.3.1)\n",
      "Downloading phidata-2.7.8-py3-none-any.whl (707 kB)\n",
      "   ---------------------------------------- 0.0/707.9 kB ? eta -:--:--\n",
      "   -------------- ------------------------- 262.1/707.9 kB ? eta -:--:--\n",
      "   ---------------------------------------- 707.9/707.9 kB 2.4 MB/s eta 0:00:00\n",
      "Downloading docstring_parser-0.16-py3-none-any.whl (36 kB)\n",
      "Downloading tomli-2.2.1-cp311-cp311-win_amd64.whl (108 kB)\n",
      "Installing collected packages: tomli, docstring-parser, phidata\n",
      "Successfully installed docstring-parser-0.16 phidata-2.7.8 tomli-2.2.1\n",
      "Note: you may need to restart the kernel to use updated packages.\n"
     ]
    }
   ],
   "source": [
    "pip install phidata"
   ]
  },
  {
   "cell_type": "code",
   "execution_count": 37,
   "id": "ca486f8d-19e9-42dd-8308-2664ff51681b",
   "metadata": {},
   "outputs": [
    {
     "name": "stdout",
     "output_type": "stream",
     "text": [
      "Collecting duckduckgo-search\n",
      "  Downloading duckduckgo_search-7.2.1-py3-none-any.whl.metadata (17 kB)\n",
      "Requirement already satisfied: click>=8.1.7 in c:\\users\\ayush\\appdata\\local\\programs\\python\\python311\\lib\\site-packages (from duckduckgo-search) (8.1.7)\n",
      "Collecting primp>=0.10.0 (from duckduckgo-search)\n",
      "  Downloading primp-0.10.1-cp38-abi3-win_amd64.whl.metadata (12 kB)\n",
      "Collecting lxml>=5.3.0 (from duckduckgo-search)\n",
      "  Downloading lxml-5.3.0-cp311-cp311-win_amd64.whl.metadata (3.9 kB)\n",
      "Requirement already satisfied: colorama in c:\\users\\ayush\\appdata\\local\\programs\\python\\python311\\lib\\site-packages (from click>=8.1.7->duckduckgo-search) (0.4.6)\n",
      "Downloading duckduckgo_search-7.2.1-py3-none-any.whl (19 kB)\n",
      "Downloading lxml-5.3.0-cp311-cp311-win_amd64.whl (3.8 MB)\n",
      "   ---------------------------------------- 0.0/3.8 MB ? eta -:--:--\n",
      "   ----- ---------------------------------- 0.5/3.8 MB 4.2 MB/s eta 0:00:01\n",
      "   ---------- ----------------------------- 1.0/3.8 MB 2.8 MB/s eta 0:00:01\n",
      "   --------------------- ------------------ 2.1/3.8 MB 3.5 MB/s eta 0:00:01\n",
      "   ------------------------------ --------- 2.9/3.8 MB 3.6 MB/s eta 0:00:01\n",
      "   ---------------------------------------- 3.8/3.8 MB 3.7 MB/s eta 0:00:00\n",
      "Downloading primp-0.10.1-cp38-abi3-win_amd64.whl (3.2 MB)\n",
      "   ---------------------------------------- 0.0/3.2 MB ? eta -:--:--\n",
      "   --------- ------------------------------ 0.8/3.2 MB 3.7 MB/s eta 0:00:01\n",
      "   ---------------- ----------------------- 1.3/3.2 MB 3.2 MB/s eta 0:00:01\n",
      "   ---------------------- ----------------- 1.8/3.2 MB 3.0 MB/s eta 0:00:01\n",
      "   -------------------------------- ------- 2.6/3.2 MB 3.1 MB/s eta 0:00:01\n",
      "   ---------------------------------------- 3.2/3.2 MB 3.1 MB/s eta 0:00:00\n",
      "Installing collected packages: primp, lxml, duckduckgo-search\n",
      "  Attempting uninstall: lxml\n",
      "    Found existing installation: lxml 5.2.2\n",
      "    Uninstalling lxml-5.2.2:\n",
      "      Successfully uninstalled lxml-5.2.2\n",
      "Successfully installed duckduckgo-search-7.2.1 lxml-5.3.0 primp-0.10.1\n",
      "Note: you may need to restart the kernel to use updated packages.\n"
     ]
    },
    {
     "name": "stderr",
     "output_type": "stream",
     "text": [
      "  WARNING: Failed to remove contents in a temporary directory 'C:\\Users\\ayush\\AppData\\Local\\Programs\\Python\\Python311\\Lib\\site-packages\\~xml'.\n",
      "  You can safely remove it manually.\n"
     ]
    }
   ],
   "source": [
    "pip install duckduckgo-search"
   ]
  },
  {
   "cell_type": "code",
   "execution_count": 38,
   "id": "8c794543-b8fa-4a0e-8208-9afd34dbc234",
   "metadata": {},
   "outputs": [],
   "source": [
    "from phi.agent import Agent\n",
    "from phi.model.groq import Groq\n",
    "from phi.tools.yfinance import YFinanceTools\n",
    "from phi.model.openai import OpenAIChat\n",
    "from phi.tools.duckduckgo import DuckDuckGo"
   ]
  },
  {
   "cell_type": "code",
   "execution_count": 5,
   "id": "0b7caeab-8b59-4d1b-b279-abae77cad3b5",
   "metadata": {},
   "outputs": [
    {
     "name": "stdout",
     "output_type": "stream",
     "text": [
      "Collecting groqNote: you may need to restart the kernel to use updated packages.\n",
      "\n",
      "  Downloading groq-0.15.0-py3-none-any.whl.metadata (14 kB)\n",
      "Requirement already satisfied: anyio<5,>=3.5.0 in c:\\users\\ayush\\appdata\\local\\programs\\python\\python311\\lib\\site-packages (from groq) (4.4.0)\n",
      "Requirement already satisfied: distro<2,>=1.7.0 in c:\\users\\ayush\\appdata\\local\\programs\\python\\python311\\lib\\site-packages (from groq) (1.9.0)\n",
      "Requirement already satisfied: httpx<1,>=0.23.0 in c:\\users\\ayush\\appdata\\local\\programs\\python\\python311\\lib\\site-packages (from groq) (0.28.1)\n",
      "Requirement already satisfied: pydantic<3,>=1.9.0 in c:\\users\\ayush\\appdata\\local\\programs\\python\\python311\\lib\\site-packages (from groq) (2.9.2)\n",
      "Requirement already satisfied: sniffio in c:\\users\\ayush\\appdata\\local\\programs\\python\\python311\\lib\\site-packages (from groq) (1.3.1)\n",
      "Requirement already satisfied: typing-extensions<5,>=4.10 in c:\\users\\ayush\\appdata\\local\\programs\\python\\python311\\lib\\site-packages (from groq) (4.12.2)\n",
      "Requirement already satisfied: idna>=2.8 in c:\\users\\ayush\\appdata\\local\\programs\\python\\python311\\lib\\site-packages (from anyio<5,>=3.5.0->groq) (3.6)\n",
      "Requirement already satisfied: certifi in c:\\users\\ayush\\appdata\\local\\programs\\python\\python311\\lib\\site-packages (from httpx<1,>=0.23.0->groq) (2024.12.14)\n",
      "Requirement already satisfied: httpcore==1.* in c:\\users\\ayush\\appdata\\local\\programs\\python\\python311\\lib\\site-packages (from httpx<1,>=0.23.0->groq) (1.0.5)\n",
      "Requirement already satisfied: h11<0.15,>=0.13 in c:\\users\\ayush\\appdata\\local\\programs\\python\\python311\\lib\\site-packages (from httpcore==1.*->httpx<1,>=0.23.0->groq) (0.14.0)\n",
      "Requirement already satisfied: annotated-types>=0.6.0 in c:\\users\\ayush\\appdata\\local\\programs\\python\\python311\\lib\\site-packages (from pydantic<3,>=1.9.0->groq) (0.7.0)\n",
      "Requirement already satisfied: pydantic-core==2.23.4 in c:\\users\\ayush\\appdata\\local\\programs\\python\\python311\\lib\\site-packages (from pydantic<3,>=1.9.0->groq) (2.23.4)\n",
      "Downloading groq-0.15.0-py3-none-any.whl (109 kB)\n",
      "Installing collected packages: groq\n",
      "Successfully installed groq-0.15.0\n"
     ]
    }
   ],
   "source": [
    "pip install groq"
   ]
  },
  {
   "cell_type": "markdown",
   "id": "356c7877-7bc2-4326-b4b5-3ff41c5b8aa5",
   "metadata": {},
   "source": [
    "## Creating a simple AI Agent"
   ]
  },
  {
   "cell_type": "code",
   "execution_count": 31,
   "id": "761a88ac-dad6-4e7b-8cc6-f7ac7f5f0915",
   "metadata": {},
   "outputs": [
    {
     "data": {
      "application/vnd.jupyter.widget-view+json": {
       "model_id": "a735a1f962054556930126dfc42a090d",
       "version_major": 2,
       "version_minor": 0
      },
      "text/plain": [
       "Output()"
      ]
     },
     "metadata": {},
     "output_type": "display_data"
    },
    {
     "data": {
      "text/html": [
       "<pre style=\"white-space:pre;overflow-x:auto;line-height:normal;font-family:Menlo,'DejaVu Sans Mono',consolas,'Courier New',monospace\"></pre>\n"
      ],
      "text/plain": []
     },
     "metadata": {},
     "output_type": "display_data"
    }
   ],
   "source": [
    "agent = Agent(\n",
    "    model=Groq(id=\"llama-3.3-70b-versatile\")\n",
    ")\n",
    "\n",
    "agent.print_response(\"Share a 2 sentence love story between dosa and samosa\")"
   ]
  },
  {
   "cell_type": "markdown",
   "id": "6f35fa16-643d-4dbd-a6bc-231abb36a545",
   "metadata": {},
   "source": [
    "## Creating a simple AI Agent for Stock comparing."
   ]
  },
  {
   "cell_type": "code",
   "execution_count": 26,
   "id": "71c24959-e39f-4516-9a6d-96e90104b084",
   "metadata": {},
   "outputs": [],
   "source": [
    "def get_company_symbol(company: str) -> str:\n",
    "    symbols = {\n",
    "        \"Phidata\": \"MSFT\",\n",
    "        \"Infosys\": \"INFY\",\n",
    "        \"Tesla\": \"TSLA\",\n",
    "        \"Apple\": \"AAPL\",\n",
    "        \"Microsoft\": \"MSFT\",\n",
    "        \"Amazon\": \"AMZN\",\n",
    "        \"Google\": \"GOOGL\",\n",
    "    }\n",
    "    return symbols.get(company, \"Unknown\")\n"
   ]
  },
  {
   "cell_type": "code",
   "execution_count": 34,
   "id": "b5192521-1090-4401-9c79-d7479b6293ee",
   "metadata": {},
   "outputs": [
    {
     "data": {
      "text/html": [
       "<pre style=\"white-space:pre;overflow-x:auto;line-height:normal;font-family:Menlo,'DejaVu Sans Mono',consolas,'Courier New',monospace\"><span style=\"color: #008000; text-decoration-color: #008000\">DEBUG   </span> Function: get_current_stock_price registered with yfinance_tools                                          \n",
       "</pre>\n"
      ],
      "text/plain": [
       "\u001b[32mDEBUG   \u001b[0m Function: get_current_stock_price registered with yfinance_tools                                          \n"
      ]
     },
     "metadata": {},
     "output_type": "display_data"
    },
    {
     "data": {
      "text/html": [
       "<pre style=\"white-space:pre;overflow-x:auto;line-height:normal;font-family:Menlo,'DejaVu Sans Mono',consolas,'Courier New',monospace\"><span style=\"color: #008000; text-decoration-color: #008000\">DEBUG   </span> Function: get_stock_fundamentals registered with yfinance_tools                                           \n",
       "</pre>\n"
      ],
      "text/plain": [
       "\u001b[32mDEBUG   \u001b[0m Function: get_stock_fundamentals registered with yfinance_tools                                           \n"
      ]
     },
     "metadata": {},
     "output_type": "display_data"
    },
    {
     "data": {
      "text/html": [
       "<pre style=\"white-space:pre;overflow-x:auto;line-height:normal;font-family:Menlo,'DejaVu Sans Mono',consolas,'Courier New',monospace\"><span style=\"color: #008000; text-decoration-color: #008000\">DEBUG   </span> Function: get_analyst_recommendations registered with yfinance_tools                                      \n",
       "</pre>\n"
      ],
      "text/plain": [
       "\u001b[32mDEBUG   \u001b[0m Function: get_analyst_recommendations registered with yfinance_tools                                      \n"
      ]
     },
     "metadata": {},
     "output_type": "display_data"
    },
    {
     "data": {
      "text/html": [
       "<pre style=\"white-space:pre;overflow-x:auto;line-height:normal;font-family:Menlo,'DejaVu Sans Mono',consolas,'Courier New',monospace\"><span style=\"color: #008000; text-decoration-color: #008000\">DEBUG   </span> *********** Agent ID: <span style=\"color: #ffff00; text-decoration-color: #ffff00\">32108a20-100d-4833-9783-586508472f82</span> ***********                                    \n",
       "</pre>\n"
      ],
      "text/plain": [
       "\u001b[32mDEBUG   \u001b[0m *********** Agent ID: \u001b[93m32108a20-100d-4833-9783-586508472f82\u001b[0m ***********                                    \n"
      ]
     },
     "metadata": {},
     "output_type": "display_data"
    },
    {
     "data": {
      "text/html": [
       "<pre style=\"white-space:pre;overflow-x:auto;line-height:normal;font-family:Menlo,'DejaVu Sans Mono',consolas,'Courier New',monospace\"><span style=\"color: #008000; text-decoration-color: #008000\">DEBUG   </span> *********** Session ID: <span style=\"color: #ffff00; text-decoration-color: #ffff00\">63831a02-dbb1-4064-9fdd-8c0377ca6deb</span> ***********                                  \n",
       "</pre>\n"
      ],
      "text/plain": [
       "\u001b[32mDEBUG   \u001b[0m *********** Session ID: \u001b[93m63831a02-dbb1-4064-9fdd-8c0377ca6deb\u001b[0m ***********                                  \n"
      ]
     },
     "metadata": {},
     "output_type": "display_data"
    },
    {
     "data": {
      "text/html": [
       "<pre style=\"white-space:pre;overflow-x:auto;line-height:normal;font-family:Menlo,'DejaVu Sans Mono',consolas,'Courier New',monospace\"><span style=\"color: #008000; text-decoration-color: #008000\">DEBUG   </span> Debug logs enabled                                                                                        \n",
       "</pre>\n"
      ],
      "text/plain": [
       "\u001b[32mDEBUG   \u001b[0m Debug logs enabled                                                                                        \n"
      ]
     },
     "metadata": {},
     "output_type": "display_data"
    },
    {
     "data": {
      "text/html": [
       "<pre style=\"white-space:pre;overflow-x:auto;line-height:normal;font-family:Menlo,'DejaVu Sans Mono',consolas,'Courier New',monospace\"><span style=\"color: #008000; text-decoration-color: #008000\">DEBUG   </span> *********** Agent Run Start: <span style=\"color: #ffff00; text-decoration-color: #ffff00\">8b641701-b5b3-4a4c-a0f9-02cf751e2eff</span> ***********                             \n",
       "</pre>\n"
      ],
      "text/plain": [
       "\u001b[32mDEBUG   \u001b[0m *********** Agent Run Start: \u001b[93m8b641701-b5b3-4a4c-a0f9-02cf751e2eff\u001b[0m ***********                             \n"
      ]
     },
     "metadata": {},
     "output_type": "display_data"
    },
    {
     "data": {
      "text/html": [
       "<pre style=\"white-space:pre;overflow-x:auto;line-height:normal;font-family:Menlo,'DejaVu Sans Mono',consolas,'Courier New',monospace\"><span style=\"color: #008000; text-decoration-color: #008000\">DEBUG   </span> Function get_current_stock_price from yfinance_tools added to model.                                      \n",
       "</pre>\n"
      ],
      "text/plain": [
       "\u001b[32mDEBUG   \u001b[0m Function get_current_stock_price from yfinance_tools added to model.                                      \n"
      ]
     },
     "metadata": {},
     "output_type": "display_data"
    },
    {
     "data": {
      "text/html": [
       "<pre style=\"white-space:pre;overflow-x:auto;line-height:normal;font-family:Menlo,'DejaVu Sans Mono',consolas,'Courier New',monospace\"><span style=\"color: #008000; text-decoration-color: #008000\">DEBUG   </span> Function get_stock_fundamentals from yfinance_tools added to model.                                       \n",
       "</pre>\n"
      ],
      "text/plain": [
       "\u001b[32mDEBUG   \u001b[0m Function get_stock_fundamentals from yfinance_tools added to model.                                       \n"
      ]
     },
     "metadata": {},
     "output_type": "display_data"
    },
    {
     "data": {
      "text/html": [
       "<pre style=\"white-space:pre;overflow-x:auto;line-height:normal;font-family:Menlo,'DejaVu Sans Mono',consolas,'Courier New',monospace\"><span style=\"color: #008000; text-decoration-color: #008000\">DEBUG   </span> Function get_analyst_recommendations from yfinance_tools added to model.                                  \n",
       "</pre>\n"
      ],
      "text/plain": [
       "\u001b[32mDEBUG   \u001b[0m Function get_analyst_recommendations from yfinance_tools added to model.                                  \n"
      ]
     },
     "metadata": {},
     "output_type": "display_data"
    },
    {
     "data": {
      "text/html": [
       "<pre style=\"white-space:pre;overflow-x:auto;line-height:normal;font-family:Menlo,'DejaVu Sans Mono',consolas,'Courier New',monospace\"><span style=\"color: #008000; text-decoration-color: #008000\">DEBUG   </span> Function get_company_symbol added to model.                                                               \n",
       "</pre>\n"
      ],
      "text/plain": [
       "\u001b[32mDEBUG   \u001b[0m Function get_company_symbol added to model.                                                               \n"
      ]
     },
     "metadata": {},
     "output_type": "display_data"
    },
    {
     "data": {
      "text/html": [
       "<pre style=\"white-space:pre;overflow-x:auto;line-height:normal;font-family:Menlo,'DejaVu Sans Mono',consolas,'Courier New',monospace\"><span style=\"color: #008000; text-decoration-color: #008000\">DEBUG   </span> ---------- Groq Response Start ----------                                                                 \n",
       "</pre>\n"
      ],
      "text/plain": [
       "\u001b[32mDEBUG   \u001b[0m ---------- Groq Response Start ----------                                                                 \n"
      ]
     },
     "metadata": {},
     "output_type": "display_data"
    },
    {
     "data": {
      "text/html": [
       "<pre style=\"white-space:pre;overflow-x:auto;line-height:normal;font-family:Menlo,'DejaVu Sans Mono',consolas,'Courier New',monospace\"><span style=\"color: #008000; text-decoration-color: #008000\">DEBUG   </span> ============== system ==============                                                                      \n",
       "</pre>\n"
      ],
      "text/plain": [
       "\u001b[32mDEBUG   \u001b[0m ============== system ==============                                                                      \n"
      ]
     },
     "metadata": {},
     "output_type": "display_data"
    },
    {
     "data": {
      "text/html": [
       "<pre style=\"white-space:pre;overflow-x:auto;line-height:normal;font-family:Menlo,'DejaVu Sans Mono',consolas,'Courier New',monospace\"><span style=\"color: #008000; text-decoration-color: #008000\">DEBUG   </span> ## Instructions                                                                                           \n",
       "         - Use tables to display data.                                                                             \n",
       "         - If you need to find the symbol for a company, use the get_company_symbol tool.                          \n",
       "         - Use markdown to format your answers.                                                                    \n",
       "</pre>\n"
      ],
      "text/plain": [
       "\u001b[32mDEBUG   \u001b[0m ## Instructions                                                                                           \n",
       "         - Use tables to display data.                                                                             \n",
       "         - If you need to find the symbol for a company, use the get_company_symbol tool.                          \n",
       "         - Use markdown to format your answers.                                                                    \n"
      ]
     },
     "metadata": {},
     "output_type": "display_data"
    },
    {
     "data": {
      "text/html": [
       "<pre style=\"white-space:pre;overflow-x:auto;line-height:normal;font-family:Menlo,'DejaVu Sans Mono',consolas,'Courier New',monospace\"><span style=\"color: #008000; text-decoration-color: #008000\">DEBUG   </span> ============== user ==============                                                                        \n",
       "</pre>\n"
      ],
      "text/plain": [
       "\u001b[32mDEBUG   \u001b[0m ============== user ==============                                                                        \n"
      ]
     },
     "metadata": {},
     "output_type": "display_data"
    },
    {
     "data": {
      "text/html": [
       "<pre style=\"white-space:pre;overflow-x:auto;line-height:normal;font-family:Menlo,'DejaVu Sans Mono',consolas,'Courier New',monospace\"><span style=\"color: #008000; text-decoration-color: #008000\">DEBUG   </span> Summarize and compare analyst recommendations and fundamentals for TSLA and NVDA. Show in tables.         \n",
       "</pre>\n"
      ],
      "text/plain": [
       "\u001b[32mDEBUG   \u001b[0m Summarize and compare analyst recommendations and fundamentals for TSLA and NVDA. Show in tables.         \n"
      ]
     },
     "metadata": {},
     "output_type": "display_data"
    },
    {
     "data": {
      "application/vnd.jupyter.widget-view+json": {
       "model_id": "496f929051b84a6c837b22af3df19de7",
       "version_major": 2,
       "version_minor": 0
      },
      "text/plain": [
       "Output()"
      ]
     },
     "metadata": {},
     "output_type": "display_data"
    },
    {
     "data": {
      "text/html": [
       "<pre style=\"white-space:pre;overflow-x:auto;line-height:normal;font-family:Menlo,'DejaVu Sans Mono',consolas,'Courier New',monospace\"><span style=\"color: #008000; text-decoration-color: #008000\">DEBUG   </span> ============== assistant ==============                                                                   \n",
       "</pre>\n"
      ],
      "text/plain": [
       "\u001b[32mDEBUG   \u001b[0m ============== assistant ==============                                                                   \n"
      ]
     },
     "metadata": {},
     "output_type": "display_data"
    },
    {
     "data": {
      "text/html": [
       "<pre style=\"white-space:pre;overflow-x:auto;line-height:normal;font-family:Menlo,'DejaVu Sans Mono',consolas,'Courier New',monospace\"><span style=\"color: #008000; text-decoration-color: #008000\">DEBUG   </span> ### Analyst Recommendations for TSLA and NVDA                                                             \n",
       "         To summarize and compare analyst recommendations for TSLA and NVDA, we will first retrieve the data using \n",
       "         the following function calls:                                                                             \n",
       "                                                                                                                   \n",
       "                                                                                                                   \n",
       "</pre>\n"
      ],
      "text/plain": [
       "\u001b[32mDEBUG   \u001b[0m ### Analyst Recommendations for TSLA and NVDA                                                             \n",
       "         To summarize and compare analyst recommendations for TSLA and NVDA, we will first retrieve the data using \n",
       "         the following function calls:                                                                             \n",
       "                                                                                                                   \n",
       "                                                                                                                   \n"
      ]
     },
     "metadata": {},
     "output_type": "display_data"
    },
    {
     "data": {
      "text/html": [
       "<pre style=\"white-space:pre;overflow-x:auto;line-height:normal;font-family:Menlo,'DejaVu Sans Mono',consolas,'Courier New',monospace\"><span style=\"color: #008000; text-decoration-color: #008000\">DEBUG   </span> Tool Calls: <span style=\"font-weight: bold\">[</span>                                                                                             \n",
       "           <span style=\"font-weight: bold\">{</span>                                                                                                       \n",
       "             <span style=\"color: #008000; text-decoration-color: #008000\">\"id\"</span>: <span style=\"color: #008000; text-decoration-color: #008000\">\"call_rs4w\"</span>,                                                                                    \n",
       "             <span style=\"color: #008000; text-decoration-color: #008000\">\"type\"</span>: <span style=\"color: #008000; text-decoration-color: #008000\">\"function\"</span>,                                                                                   \n",
       "             <span style=\"color: #008000; text-decoration-color: #008000\">\"function\"</span>: <span style=\"font-weight: bold\">{</span>                                                                                         \n",
       "               <span style=\"color: #008000; text-decoration-color: #008000\">\"name\"</span>: <span style=\"color: #008000; text-decoration-color: #008000\">\"get_analyst_recommendations\"</span>,                                                              \n",
       "               <span style=\"color: #008000; text-decoration-color: #008000\">\"arguments\"</span>: <span style=\"color: #008000; text-decoration-color: #008000\">\"{\\\"symbol\\\": \\\"TSLA\\\"}\"</span>                                                               \n",
       "             <span style=\"font-weight: bold\">}</span>                                                                                                     \n",
       "           <span style=\"font-weight: bold\">}</span>,                                                                                                      \n",
       "           <span style=\"font-weight: bold\">{</span>                                                                                                       \n",
       "             <span style=\"color: #008000; text-decoration-color: #008000\">\"id\"</span>: <span style=\"color: #008000; text-decoration-color: #008000\">\"call_5v6v\"</span>,                                                                                    \n",
       "             <span style=\"color: #008000; text-decoration-color: #008000\">\"type\"</span>: <span style=\"color: #008000; text-decoration-color: #008000\">\"function\"</span>,                                                                                   \n",
       "             <span style=\"color: #008000; text-decoration-color: #008000\">\"function\"</span>: <span style=\"font-weight: bold\">{</span>                                                                                         \n",
       "               <span style=\"color: #008000; text-decoration-color: #008000\">\"name\"</span>: <span style=\"color: #008000; text-decoration-color: #008000\">\"get_analyst_recommendations\"</span>,                                                              \n",
       "               <span style=\"color: #008000; text-decoration-color: #008000\">\"arguments\"</span>: <span style=\"color: #008000; text-decoration-color: #008000\">\"{\\\"symbol\\\": \\\"NVDA\\\"}\"</span>                                                               \n",
       "             <span style=\"font-weight: bold\">}</span>                                                                                                     \n",
       "           <span style=\"font-weight: bold\">}</span>                                                                                                       \n",
       "         <span style=\"font-weight: bold\">]</span>                                                                                                         \n",
       "</pre>\n"
      ],
      "text/plain": [
       "\u001b[32mDEBUG   \u001b[0m Tool Calls: \u001b[1m[\u001b[0m                                                                                             \n",
       "           \u001b[1m{\u001b[0m                                                                                                       \n",
       "             \u001b[32m\"id\"\u001b[0m: \u001b[32m\"call_rs4w\"\u001b[0m,                                                                                    \n",
       "             \u001b[32m\"type\"\u001b[0m: \u001b[32m\"function\"\u001b[0m,                                                                                   \n",
       "             \u001b[32m\"function\"\u001b[0m: \u001b[1m{\u001b[0m                                                                                         \n",
       "               \u001b[32m\"name\"\u001b[0m: \u001b[32m\"get_analyst_recommendations\"\u001b[0m,                                                              \n",
       "               \u001b[32m\"arguments\"\u001b[0m: \u001b[32m\"\u001b[0m\u001b[32m{\u001b[0m\u001b[32m\\\"symbol\\\": \\\"TSLA\\\"\u001b[0m\u001b[32m}\u001b[0m\u001b[32m\"\u001b[0m                                                               \n",
       "             \u001b[1m}\u001b[0m                                                                                                     \n",
       "           \u001b[1m}\u001b[0m,                                                                                                      \n",
       "           \u001b[1m{\u001b[0m                                                                                                       \n",
       "             \u001b[32m\"id\"\u001b[0m: \u001b[32m\"call_5v6v\"\u001b[0m,                                                                                    \n",
       "             \u001b[32m\"type\"\u001b[0m: \u001b[32m\"function\"\u001b[0m,                                                                                   \n",
       "             \u001b[32m\"function\"\u001b[0m: \u001b[1m{\u001b[0m                                                                                         \n",
       "               \u001b[32m\"name\"\u001b[0m: \u001b[32m\"get_analyst_recommendations\"\u001b[0m,                                                              \n",
       "               \u001b[32m\"arguments\"\u001b[0m: \u001b[32m\"\u001b[0m\u001b[32m{\u001b[0m\u001b[32m\\\"symbol\\\": \\\"NVDA\\\"\u001b[0m\u001b[32m}\u001b[0m\u001b[32m\"\u001b[0m                                                               \n",
       "             \u001b[1m}\u001b[0m                                                                                                     \n",
       "           \u001b[1m}\u001b[0m                                                                                                       \n",
       "         \u001b[1m]\u001b[0m                                                                                                         \n"
      ]
     },
     "metadata": {},
     "output_type": "display_data"
    },
    {
     "data": {
      "text/html": [
       "<pre style=\"white-space:pre;overflow-x:auto;line-height:normal;font-family:Menlo,'DejaVu Sans Mono',consolas,'Courier New',monospace\"><span style=\"color: #008000; text-decoration-color: #008000\">DEBUG   </span> **************** METRICS START ****************                                                           \n",
       "</pre>\n"
      ],
      "text/plain": [
       "\u001b[32mDEBUG   \u001b[0m **************** METRICS START ****************                                                           \n"
      ]
     },
     "metadata": {},
     "output_type": "display_data"
    },
    {
     "data": {
      "text/html": [
       "<pre style=\"white-space:pre;overflow-x:auto;line-height:normal;font-family:Menlo,'DejaVu Sans Mono',consolas,'Courier New',monospace\"><span style=\"color: #008000; text-decoration-color: #008000\">DEBUG   </span> * Time to first token:         <span style=\"color: #008080; text-decoration-color: #008080; font-weight: bold\">0.</span>6947s                                                                    \n",
       "</pre>\n"
      ],
      "text/plain": [
       "\u001b[32mDEBUG   \u001b[0m * Time to first token:         \u001b[1;36m0.\u001b[0m6947s                                                                    \n"
      ]
     },
     "metadata": {},
     "output_type": "display_data"
    },
    {
     "data": {
      "text/html": [
       "<pre style=\"white-space:pre;overflow-x:auto;line-height:normal;font-family:Menlo,'DejaVu Sans Mono',consolas,'Courier New',monospace\"><span style=\"color: #008000; text-decoration-color: #008000\">DEBUG   </span> * Time to generate response:   <span style=\"color: #008080; text-decoration-color: #008080; font-weight: bold\">2.</span>1960s                                                                    \n",
       "</pre>\n"
      ],
      "text/plain": [
       "\u001b[32mDEBUG   \u001b[0m * Time to generate response:   \u001b[1;36m2.\u001b[0m1960s                                                                    \n"
      ]
     },
     "metadata": {},
     "output_type": "display_data"
    },
    {
     "data": {
      "text/html": [
       "<pre style=\"white-space:pre;overflow-x:auto;line-height:normal;font-family:Menlo,'DejaVu Sans Mono',consolas,'Courier New',monospace\"><span style=\"color: #008000; text-decoration-color: #008000\">DEBUG   </span> * Tokens per second:           <span style=\"color: #008080; text-decoration-color: #008080; font-weight: bold\">0.0000</span> tokens/s                                                            \n",
       "</pre>\n"
      ],
      "text/plain": [
       "\u001b[32mDEBUG   \u001b[0m * Tokens per second:           \u001b[1;36m0.0000\u001b[0m tokens/s                                                            \n"
      ]
     },
     "metadata": {},
     "output_type": "display_data"
    },
    {
     "data": {
      "text/html": [
       "<pre style=\"white-space:pre;overflow-x:auto;line-height:normal;font-family:Menlo,'DejaVu Sans Mono',consolas,'Courier New',monospace\"><span style=\"color: #008000; text-decoration-color: #008000\">DEBUG   </span> * Input tokens:                <span style=\"color: #008080; text-decoration-color: #008080; font-weight: bold\">0</span>                                                                          \n",
       "</pre>\n"
      ],
      "text/plain": [
       "\u001b[32mDEBUG   \u001b[0m * Input tokens:                \u001b[1;36m0\u001b[0m                                                                          \n"
      ]
     },
     "metadata": {},
     "output_type": "display_data"
    },
    {
     "data": {
      "text/html": [
       "<pre style=\"white-space:pre;overflow-x:auto;line-height:normal;font-family:Menlo,'DejaVu Sans Mono',consolas,'Courier New',monospace\"><span style=\"color: #008000; text-decoration-color: #008000\">DEBUG   </span> * Output tokens:               <span style=\"color: #008080; text-decoration-color: #008080; font-weight: bold\">41</span>                                                                         \n",
       "</pre>\n"
      ],
      "text/plain": [
       "\u001b[32mDEBUG   \u001b[0m * Output tokens:               \u001b[1;36m41\u001b[0m                                                                         \n"
      ]
     },
     "metadata": {},
     "output_type": "display_data"
    },
    {
     "data": {
      "text/html": [
       "<pre style=\"white-space:pre;overflow-x:auto;line-height:normal;font-family:Menlo,'DejaVu Sans Mono',consolas,'Courier New',monospace\"><span style=\"color: #008000; text-decoration-color: #008000\">DEBUG   </span> * Total tokens:                <span style=\"color: #008080; text-decoration-color: #008080; font-weight: bold\">0</span>                                                                          \n",
       "</pre>\n"
      ],
      "text/plain": [
       "\u001b[32mDEBUG   \u001b[0m * Total tokens:                \u001b[1;36m0\u001b[0m                                                                          \n"
      ]
     },
     "metadata": {},
     "output_type": "display_data"
    },
    {
     "data": {
      "text/html": [
       "<pre style=\"white-space:pre;overflow-x:auto;line-height:normal;font-family:Menlo,'DejaVu Sans Mono',consolas,'Courier New',monospace\"><span style=\"color: #008000; text-decoration-color: #008000\">DEBUG   </span> **************** METRICS END ******************                                                           \n",
       "</pre>\n"
      ],
      "text/plain": [
       "\u001b[32mDEBUG   \u001b[0m **************** METRICS END ******************                                                           \n"
      ]
     },
     "metadata": {},
     "output_type": "display_data"
    },
    {
     "data": {
      "text/html": [
       "<pre style=\"white-space:pre;overflow-x:auto;line-height:normal;font-family:Menlo,'DejaVu Sans Mono',consolas,'Courier New',monospace\"><span style=\"color: #008000; text-decoration-color: #008000\">DEBUG   </span> Getting function get_analyst_recommendations                                                              \n",
       "</pre>\n"
      ],
      "text/plain": [
       "\u001b[32mDEBUG   \u001b[0m Getting function get_analyst_recommendations                                                              \n"
      ]
     },
     "metadata": {},
     "output_type": "display_data"
    },
    {
     "data": {
      "text/html": [
       "<pre style=\"white-space:pre;overflow-x:auto;line-height:normal;font-family:Menlo,'DejaVu Sans Mono',consolas,'Courier New',monospace\"><span style=\"color: #008000; text-decoration-color: #008000\">DEBUG   </span> Getting function get_analyst_recommendations                                                              \n",
       "</pre>\n"
      ],
      "text/plain": [
       "\u001b[32mDEBUG   \u001b[0m Getting function get_analyst_recommendations                                                              \n"
      ]
     },
     "metadata": {},
     "output_type": "display_data"
    },
    {
     "data": {
      "text/html": [
       "<pre style=\"white-space:pre;overflow-x:auto;line-height:normal;font-family:Menlo,'DejaVu Sans Mono',consolas,'Courier New',monospace\"><span style=\"color: #008000; text-decoration-color: #008000\">DEBUG   </span> Running: <span style=\"color: #800080; text-decoration-color: #800080; font-weight: bold\">get_analyst_recommendations</span><span style=\"font-weight: bold\">(</span><span style=\"color: #808000; text-decoration-color: #808000\">symbol</span>=<span style=\"color: #800080; text-decoration-color: #800080\">TSLA</span><span style=\"font-weight: bold\">)</span>                                                         \n",
       "</pre>\n"
      ],
      "text/plain": [
       "\u001b[32mDEBUG   \u001b[0m Running: \u001b[1;35mget_analyst_recommendations\u001b[0m\u001b[1m(\u001b[0m\u001b[33msymbol\u001b[0m=\u001b[35mTSLA\u001b[0m\u001b[1m)\u001b[0m                                                         \n"
      ]
     },
     "metadata": {},
     "output_type": "display_data"
    },
    {
     "data": {
      "text/html": [
       "<pre style=\"white-space:pre;overflow-x:auto;line-height:normal;font-family:Menlo,'DejaVu Sans Mono',consolas,'Courier New',monospace\"><span style=\"color: #008000; text-decoration-color: #008000\">DEBUG   </span> Running: <span style=\"color: #800080; text-decoration-color: #800080; font-weight: bold\">get_analyst_recommendations</span><span style=\"font-weight: bold\">(</span><span style=\"color: #808000; text-decoration-color: #808000\">symbol</span>=<span style=\"color: #800080; text-decoration-color: #800080\">NVDA</span><span style=\"font-weight: bold\">)</span>                                                         \n",
       "</pre>\n"
      ],
      "text/plain": [
       "\u001b[32mDEBUG   \u001b[0m Running: \u001b[1;35mget_analyst_recommendations\u001b[0m\u001b[1m(\u001b[0m\u001b[33msymbol\u001b[0m=\u001b[35mNVDA\u001b[0m\u001b[1m)\u001b[0m                                                         \n"
      ]
     },
     "metadata": {},
     "output_type": "display_data"
    },
    {
     "data": {
      "text/html": [
       "<pre style=\"white-space:pre;overflow-x:auto;line-height:normal;font-family:Menlo,'DejaVu Sans Mono',consolas,'Courier New',monospace\"><span style=\"color: #008000; text-decoration-color: #008000\">DEBUG   </span> ---------- Groq Response Start ----------                                                                 \n",
       "</pre>\n"
      ],
      "text/plain": [
       "\u001b[32mDEBUG   \u001b[0m ---------- Groq Response Start ----------                                                                 \n"
      ]
     },
     "metadata": {},
     "output_type": "display_data"
    },
    {
     "data": {
      "text/html": [
       "<pre style=\"white-space:pre;overflow-x:auto;line-height:normal;font-family:Menlo,'DejaVu Sans Mono',consolas,'Courier New',monospace\"><span style=\"color: #008000; text-decoration-color: #008000\">DEBUG   </span> ============== system ==============                                                                      \n",
       "</pre>\n"
      ],
      "text/plain": [
       "\u001b[32mDEBUG   \u001b[0m ============== system ==============                                                                      \n"
      ]
     },
     "metadata": {},
     "output_type": "display_data"
    },
    {
     "data": {
      "text/html": [
       "<pre style=\"white-space:pre;overflow-x:auto;line-height:normal;font-family:Menlo,'DejaVu Sans Mono',consolas,'Courier New',monospace\"><span style=\"color: #008000; text-decoration-color: #008000\">DEBUG   </span> ## Instructions                                                                                           \n",
       "         - Use tables to display data.                                                                             \n",
       "         - If you need to find the symbol for a company, use the get_company_symbol tool.                          \n",
       "         - Use markdown to format your answers.                                                                    \n",
       "</pre>\n"
      ],
      "text/plain": [
       "\u001b[32mDEBUG   \u001b[0m ## Instructions                                                                                           \n",
       "         - Use tables to display data.                                                                             \n",
       "         - If you need to find the symbol for a company, use the get_company_symbol tool.                          \n",
       "         - Use markdown to format your answers.                                                                    \n"
      ]
     },
     "metadata": {},
     "output_type": "display_data"
    },
    {
     "data": {
      "text/html": [
       "<pre style=\"white-space:pre;overflow-x:auto;line-height:normal;font-family:Menlo,'DejaVu Sans Mono',consolas,'Courier New',monospace\"><span style=\"color: #008000; text-decoration-color: #008000\">DEBUG   </span> ============== user ==============                                                                        \n",
       "</pre>\n"
      ],
      "text/plain": [
       "\u001b[32mDEBUG   \u001b[0m ============== user ==============                                                                        \n"
      ]
     },
     "metadata": {},
     "output_type": "display_data"
    },
    {
     "data": {
      "text/html": [
       "<pre style=\"white-space:pre;overflow-x:auto;line-height:normal;font-family:Menlo,'DejaVu Sans Mono',consolas,'Courier New',monospace\"><span style=\"color: #008000; text-decoration-color: #008000\">DEBUG   </span> Summarize and compare analyst recommendations and fundamentals for TSLA and NVDA. Show in tables.         \n",
       "</pre>\n"
      ],
      "text/plain": [
       "\u001b[32mDEBUG   \u001b[0m Summarize and compare analyst recommendations and fundamentals for TSLA and NVDA. Show in tables.         \n"
      ]
     },
     "metadata": {},
     "output_type": "display_data"
    },
    {
     "data": {
      "text/html": [
       "<pre style=\"white-space:pre;overflow-x:auto;line-height:normal;font-family:Menlo,'DejaVu Sans Mono',consolas,'Courier New',monospace\"><span style=\"color: #008000; text-decoration-color: #008000\">DEBUG   </span> ============== assistant ==============                                                                   \n",
       "</pre>\n"
      ],
      "text/plain": [
       "\u001b[32mDEBUG   \u001b[0m ============== assistant ==============                                                                   \n"
      ]
     },
     "metadata": {},
     "output_type": "display_data"
    },
    {
     "data": {
      "text/html": [
       "<pre style=\"white-space:pre;overflow-x:auto;line-height:normal;font-family:Menlo,'DejaVu Sans Mono',consolas,'Courier New',monospace\"><span style=\"color: #008000; text-decoration-color: #008000\">DEBUG   </span> ### Analyst Recommendations for TSLA and NVDA                                                             \n",
       "         To summarize and compare analyst recommendations for TSLA and NVDA, we will first retrieve the data using \n",
       "         the following function calls:                                                                             \n",
       "                                                                                                                   \n",
       "                                                                                                                   \n",
       "</pre>\n"
      ],
      "text/plain": [
       "\u001b[32mDEBUG   \u001b[0m ### Analyst Recommendations for TSLA and NVDA                                                             \n",
       "         To summarize and compare analyst recommendations for TSLA and NVDA, we will first retrieve the data using \n",
       "         the following function calls:                                                                             \n",
       "                                                                                                                   \n",
       "                                                                                                                   \n"
      ]
     },
     "metadata": {},
     "output_type": "display_data"
    },
    {
     "data": {
      "text/html": [
       "<pre style=\"white-space:pre;overflow-x:auto;line-height:normal;font-family:Menlo,'DejaVu Sans Mono',consolas,'Courier New',monospace\"><span style=\"color: #008000; text-decoration-color: #008000\">DEBUG   </span> Tool Calls: <span style=\"font-weight: bold\">[</span>                                                                                             \n",
       "           <span style=\"font-weight: bold\">{</span>                                                                                                       \n",
       "             <span style=\"color: #008000; text-decoration-color: #008000\">\"id\"</span>: <span style=\"color: #008000; text-decoration-color: #008000\">\"call_rs4w\"</span>,                                                                                    \n",
       "             <span style=\"color: #008000; text-decoration-color: #008000\">\"type\"</span>: <span style=\"color: #008000; text-decoration-color: #008000\">\"function\"</span>,                                                                                   \n",
       "             <span style=\"color: #008000; text-decoration-color: #008000\">\"function\"</span>: <span style=\"font-weight: bold\">{</span>                                                                                         \n",
       "               <span style=\"color: #008000; text-decoration-color: #008000\">\"name\"</span>: <span style=\"color: #008000; text-decoration-color: #008000\">\"get_analyst_recommendations\"</span>,                                                              \n",
       "               <span style=\"color: #008000; text-decoration-color: #008000\">\"arguments\"</span>: <span style=\"color: #008000; text-decoration-color: #008000\">\"{\\\"symbol\\\": \\\"TSLA\\\"}\"</span>                                                               \n",
       "             <span style=\"font-weight: bold\">}</span>                                                                                                     \n",
       "           <span style=\"font-weight: bold\">}</span>,                                                                                                      \n",
       "           <span style=\"font-weight: bold\">{</span>                                                                                                       \n",
       "             <span style=\"color: #008000; text-decoration-color: #008000\">\"id\"</span>: <span style=\"color: #008000; text-decoration-color: #008000\">\"call_5v6v\"</span>,                                                                                    \n",
       "             <span style=\"color: #008000; text-decoration-color: #008000\">\"type\"</span>: <span style=\"color: #008000; text-decoration-color: #008000\">\"function\"</span>,                                                                                   \n",
       "             <span style=\"color: #008000; text-decoration-color: #008000\">\"function\"</span>: <span style=\"font-weight: bold\">{</span>                                                                                         \n",
       "               <span style=\"color: #008000; text-decoration-color: #008000\">\"name\"</span>: <span style=\"color: #008000; text-decoration-color: #008000\">\"get_analyst_recommendations\"</span>,                                                              \n",
       "               <span style=\"color: #008000; text-decoration-color: #008000\">\"arguments\"</span>: <span style=\"color: #008000; text-decoration-color: #008000\">\"{\\\"symbol\\\": \\\"NVDA\\\"}\"</span>                                                               \n",
       "             <span style=\"font-weight: bold\">}</span>                                                                                                     \n",
       "           <span style=\"font-weight: bold\">}</span>                                                                                                       \n",
       "         <span style=\"font-weight: bold\">]</span>                                                                                                         \n",
       "</pre>\n"
      ],
      "text/plain": [
       "\u001b[32mDEBUG   \u001b[0m Tool Calls: \u001b[1m[\u001b[0m                                                                                             \n",
       "           \u001b[1m{\u001b[0m                                                                                                       \n",
       "             \u001b[32m\"id\"\u001b[0m: \u001b[32m\"call_rs4w\"\u001b[0m,                                                                                    \n",
       "             \u001b[32m\"type\"\u001b[0m: \u001b[32m\"function\"\u001b[0m,                                                                                   \n",
       "             \u001b[32m\"function\"\u001b[0m: \u001b[1m{\u001b[0m                                                                                         \n",
       "               \u001b[32m\"name\"\u001b[0m: \u001b[32m\"get_analyst_recommendations\"\u001b[0m,                                                              \n",
       "               \u001b[32m\"arguments\"\u001b[0m: \u001b[32m\"\u001b[0m\u001b[32m{\u001b[0m\u001b[32m\\\"symbol\\\": \\\"TSLA\\\"\u001b[0m\u001b[32m}\u001b[0m\u001b[32m\"\u001b[0m                                                               \n",
       "             \u001b[1m}\u001b[0m                                                                                                     \n",
       "           \u001b[1m}\u001b[0m,                                                                                                      \n",
       "           \u001b[1m{\u001b[0m                                                                                                       \n",
       "             \u001b[32m\"id\"\u001b[0m: \u001b[32m\"call_5v6v\"\u001b[0m,                                                                                    \n",
       "             \u001b[32m\"type\"\u001b[0m: \u001b[32m\"function\"\u001b[0m,                                                                                   \n",
       "             \u001b[32m\"function\"\u001b[0m: \u001b[1m{\u001b[0m                                                                                         \n",
       "               \u001b[32m\"name\"\u001b[0m: \u001b[32m\"get_analyst_recommendations\"\u001b[0m,                                                              \n",
       "               \u001b[32m\"arguments\"\u001b[0m: \u001b[32m\"\u001b[0m\u001b[32m{\u001b[0m\u001b[32m\\\"symbol\\\": \\\"NVDA\\\"\u001b[0m\u001b[32m}\u001b[0m\u001b[32m\"\u001b[0m                                                               \n",
       "             \u001b[1m}\u001b[0m                                                                                                     \n",
       "           \u001b[1m}\u001b[0m                                                                                                       \n",
       "         \u001b[1m]\u001b[0m                                                                                                         \n"
      ]
     },
     "metadata": {},
     "output_type": "display_data"
    },
    {
     "data": {
      "text/html": [
       "<pre style=\"white-space:pre;overflow-x:auto;line-height:normal;font-family:Menlo,'DejaVu Sans Mono',consolas,'Courier New',monospace\"><span style=\"color: #008000; text-decoration-color: #008000\">DEBUG   </span> ============== tool ==============                                                                        \n",
       "</pre>\n"
      ],
      "text/plain": [
       "\u001b[32mDEBUG   \u001b[0m ============== tool ==============                                                                        \n"
      ]
     },
     "metadata": {},
     "output_type": "display_data"
    },
    {
     "data": {
      "text/html": [
       "<pre style=\"white-space:pre;overflow-x:auto;line-height:normal;font-family:Menlo,'DejaVu Sans Mono',consolas,'Courier New',monospace\"><span style=\"color: #008000; text-decoration-color: #008000\">DEBUG   </span> Tool call Id: call_rs4w                                                                                   \n",
       "</pre>\n"
      ],
      "text/plain": [
       "\u001b[32mDEBUG   \u001b[0m Tool call Id: call_rs4w                                                                                   \n"
      ]
     },
     "metadata": {},
     "output_type": "display_data"
    },
    {
     "data": {
      "text/html": [
       "<pre style=\"white-space:pre;overflow-x:auto;line-height:normal;font-family:Menlo,'DejaVu Sans Mono',consolas,'Courier New',monospace\"><span style=\"color: #008000; text-decoration-color: #008000\">DEBUG   </span> <span style=\"font-weight: bold\">{</span><span style=\"color: #008000; text-decoration-color: #008000\">\"0\"</span>:<span style=\"font-weight: bold\">{</span><span style=\"color: #008000; text-decoration-color: #008000\">\"period\"</span>:<span style=\"color: #008000; text-decoration-color: #008000\">\"0m\"</span>,<span style=\"color: #008000; text-decoration-color: #008000\">\"strongBuy\"</span>:<span style=\"color: #008080; text-decoration-color: #008080; font-weight: bold\">7</span>,<span style=\"color: #008000; text-decoration-color: #008000\">\"buy\"</span>:<span style=\"color: #008080; text-decoration-color: #008080; font-weight: bold\">13</span>,<span style=\"color: #008000; text-decoration-color: #008000\">\"hold\"</span>:<span style=\"color: #008080; text-decoration-color: #008080; font-weight: bold\">15</span>,<span style=\"color: #008000; text-decoration-color: #008000\">\"sell\"</span>:<span style=\"color: #008080; text-decoration-color: #008080; font-weight: bold\">9</span>,<span style=\"color: #008000; text-decoration-color: #008000\">\"strongSell\"</span>:<span style=\"color: #008080; text-decoration-color: #008080; font-weight: bold\">4</span><span style=\"font-weight: bold\">}</span>,<span style=\"color: #008000; text-decoration-color: #008000\">\"1\"</span>:<span style=\"font-weight: bold\">{</span><span style=\"color: #008000; text-decoration-color: #008000\">\"period\"</span>:<span style=\"color: #008000; text-decoration-color: #008000\">\"-1m\"</span>,<span style=\"color: #008000; text-decoration-color: #008000\">\"strongB</span>\n",
       "         <span style=\"color: #008000; text-decoration-color: #008000\">uy\"</span>:<span style=\"color: #008080; text-decoration-color: #008080; font-weight: bold\">6</span>,<span style=\"color: #008000; text-decoration-color: #008000\">\"buy\"</span>:<span style=\"color: #008080; text-decoration-color: #008080; font-weight: bold\">14</span>,<span style=\"color: #008000; text-decoration-color: #008000\">\"hold\"</span>:<span style=\"color: #008080; text-decoration-color: #008080; font-weight: bold\">15</span>,<span style=\"color: #008000; text-decoration-color: #008000\">\"sell\"</span>:<span style=\"color: #008080; text-decoration-color: #008080; font-weight: bold\">8</span>,<span style=\"color: #008000; text-decoration-color: #008000\">\"strongSell\"</span>:<span style=\"color: #008080; text-decoration-color: #008080; font-weight: bold\">5</span><span style=\"font-weight: bold\">}</span>,<span style=\"color: #008000; text-decoration-color: #008000\">\"2\"</span>:<span style=\"font-weight: bold\">{</span><span style=\"color: #008000; text-decoration-color: #008000\">\"period\"</span>:<span style=\"color: #008000; text-decoration-color: #008000\">\"-2m\"</span>,<span style=\"color: #008000; text-decoration-color: #008000\">\"strongBuy\"</span>:<span style=\"color: #008080; text-decoration-color: #008080; font-weight: bold\">5</span>,<span style=\"color: #008000; text-decoration-color: #008000\">\"buy\"</span>:<span style=\"color: #008080; text-decoration-color: #008080; font-weight: bold\">13</span>,<span style=\"color: #008000; text-decoration-color: #008000\">\"hold\"</span>:<span style=\"color: #008080; text-decoration-color: #008080; font-weight: bold\">17</span>,<span style=\"color: #008000; text-decoration-color: #008000\">\"se</span>\n",
       "         <span style=\"color: #008000; text-decoration-color: #008000\">ll\"</span>:<span style=\"color: #008080; text-decoration-color: #008080; font-weight: bold\">8</span>,<span style=\"color: #008000; text-decoration-color: #008000\">\"strongSell\"</span>:<span style=\"color: #008080; text-decoration-color: #008080; font-weight: bold\">5</span><span style=\"font-weight: bold\">}</span>,<span style=\"color: #008000; text-decoration-color: #008000\">\"3\"</span>:<span style=\"font-weight: bold\">{</span><span style=\"color: #008000; text-decoration-color: #008000\">\"period\"</span>:<span style=\"color: #008000; text-decoration-color: #008000\">\"-3m\"</span>,<span style=\"color: #008000; text-decoration-color: #008000\">\"strongBuy\"</span>:<span style=\"color: #008080; text-decoration-color: #008080; font-weight: bold\">6</span>,<span style=\"color: #008000; text-decoration-color: #008000\">\"buy\"</span>:<span style=\"color: #008080; text-decoration-color: #008080; font-weight: bold\">12</span>,<span style=\"color: #008000; text-decoration-color: #008000\">\"hold\"</span>:<span style=\"color: #008080; text-decoration-color: #008080; font-weight: bold\">19</span>,<span style=\"color: #008000; text-decoration-color: #008000\">\"sell\"</span>:<span style=\"color: #008080; text-decoration-color: #008080; font-weight: bold\">7</span>,<span style=\"color: #008000; text-decoration-color: #008000\">\"strongSell\"</span>:<span style=\"color: #008080; text-decoration-color: #008080; font-weight: bold\">4</span><span style=\"font-weight: bold\">}}</span>      \n",
       "</pre>\n"
      ],
      "text/plain": [
       "\u001b[32mDEBUG   \u001b[0m \u001b[1m{\u001b[0m\u001b[32m\"0\"\u001b[0m:\u001b[1m{\u001b[0m\u001b[32m\"period\"\u001b[0m:\u001b[32m\"0m\"\u001b[0m,\u001b[32m\"strongBuy\"\u001b[0m:\u001b[1;36m7\u001b[0m,\u001b[32m\"buy\"\u001b[0m:\u001b[1;36m13\u001b[0m,\u001b[32m\"hold\"\u001b[0m:\u001b[1;36m15\u001b[0m,\u001b[32m\"sell\"\u001b[0m:\u001b[1;36m9\u001b[0m,\u001b[32m\"strongSell\"\u001b[0m:\u001b[1;36m4\u001b[0m\u001b[1m}\u001b[0m,\u001b[32m\"1\"\u001b[0m:\u001b[1m{\u001b[0m\u001b[32m\"period\"\u001b[0m:\u001b[32m\"-1m\"\u001b[0m,\u001b[32m\"strongB\u001b[0m\n",
       "         \u001b[32muy\"\u001b[0m:\u001b[1;36m6\u001b[0m,\u001b[32m\"buy\"\u001b[0m:\u001b[1;36m14\u001b[0m,\u001b[32m\"hold\"\u001b[0m:\u001b[1;36m15\u001b[0m,\u001b[32m\"sell\"\u001b[0m:\u001b[1;36m8\u001b[0m,\u001b[32m\"strongSell\"\u001b[0m:\u001b[1;36m5\u001b[0m\u001b[1m}\u001b[0m,\u001b[32m\"2\"\u001b[0m:\u001b[1m{\u001b[0m\u001b[32m\"period\"\u001b[0m:\u001b[32m\"-2m\"\u001b[0m,\u001b[32m\"strongBuy\"\u001b[0m:\u001b[1;36m5\u001b[0m,\u001b[32m\"buy\"\u001b[0m:\u001b[1;36m13\u001b[0m,\u001b[32m\"hold\"\u001b[0m:\u001b[1;36m17\u001b[0m,\u001b[32m\"se\u001b[0m\n",
       "         \u001b[32mll\"\u001b[0m:\u001b[1;36m8\u001b[0m,\u001b[32m\"strongSell\"\u001b[0m:\u001b[1;36m5\u001b[0m\u001b[1m}\u001b[0m,\u001b[32m\"3\"\u001b[0m:\u001b[1m{\u001b[0m\u001b[32m\"period\"\u001b[0m:\u001b[32m\"-3m\"\u001b[0m,\u001b[32m\"strongBuy\"\u001b[0m:\u001b[1;36m6\u001b[0m,\u001b[32m\"buy\"\u001b[0m:\u001b[1;36m12\u001b[0m,\u001b[32m\"hold\"\u001b[0m:\u001b[1;36m19\u001b[0m,\u001b[32m\"sell\"\u001b[0m:\u001b[1;36m7\u001b[0m,\u001b[32m\"strongSell\"\u001b[0m:\u001b[1;36m4\u001b[0m\u001b[1m}\u001b[0m\u001b[1m}\u001b[0m      \n"
      ]
     },
     "metadata": {},
     "output_type": "display_data"
    },
    {
     "data": {
      "text/html": [
       "<pre style=\"white-space:pre;overflow-x:auto;line-height:normal;font-family:Menlo,'DejaVu Sans Mono',consolas,'Courier New',monospace\"><span style=\"color: #008000; text-decoration-color: #008000\">DEBUG   </span> ============== tool ==============                                                                        \n",
       "</pre>\n"
      ],
      "text/plain": [
       "\u001b[32mDEBUG   \u001b[0m ============== tool ==============                                                                        \n"
      ]
     },
     "metadata": {},
     "output_type": "display_data"
    },
    {
     "data": {
      "text/html": [
       "<pre style=\"white-space:pre;overflow-x:auto;line-height:normal;font-family:Menlo,'DejaVu Sans Mono',consolas,'Courier New',monospace\"><span style=\"color: #008000; text-decoration-color: #008000\">DEBUG   </span> Tool call Id: call_5v6v                                                                                   \n",
       "</pre>\n"
      ],
      "text/plain": [
       "\u001b[32mDEBUG   \u001b[0m Tool call Id: call_5v6v                                                                                   \n"
      ]
     },
     "metadata": {},
     "output_type": "display_data"
    },
    {
     "data": {
      "text/html": [
       "<pre style=\"white-space:pre;overflow-x:auto;line-height:normal;font-family:Menlo,'DejaVu Sans Mono',consolas,'Courier New',monospace\"><span style=\"color: #008000; text-decoration-color: #008000\">DEBUG   </span> <span style=\"font-weight: bold\">{</span><span style=\"color: #008000; text-decoration-color: #008000\">\"0\"</span>:<span style=\"font-weight: bold\">{</span><span style=\"color: #008000; text-decoration-color: #008000\">\"period\"</span>:<span style=\"color: #008000; text-decoration-color: #008000\">\"0m\"</span>,<span style=\"color: #008000; text-decoration-color: #008000\">\"strongBuy\"</span>:<span style=\"color: #008080; text-decoration-color: #008080; font-weight: bold\">12</span>,<span style=\"color: #008000; text-decoration-color: #008000\">\"buy\"</span>:<span style=\"color: #008080; text-decoration-color: #008080; font-weight: bold\">47</span>,<span style=\"color: #008000; text-decoration-color: #008000\">\"hold\"</span>:<span style=\"color: #008080; text-decoration-color: #008080; font-weight: bold\">4</span>,<span style=\"color: #008000; text-decoration-color: #008000\">\"sell\"</span>:<span style=\"color: #008080; text-decoration-color: #008080; font-weight: bold\">0</span>,<span style=\"color: #008000; text-decoration-color: #008000\">\"strongSell\"</span>:<span style=\"color: #008080; text-decoration-color: #008080; font-weight: bold\">0</span><span style=\"font-weight: bold\">}</span>,<span style=\"color: #008000; text-decoration-color: #008000\">\"1\"</span>:<span style=\"font-weight: bold\">{</span><span style=\"color: #008000; text-decoration-color: #008000\">\"period\"</span>:<span style=\"color: #008000; text-decoration-color: #008000\">\"-1m\"</span>,<span style=\"color: #008000; text-decoration-color: #008000\">\"strongB</span>\n",
       "         <span style=\"color: #008000; text-decoration-color: #008000\">uy\"</span>:<span style=\"color: #008080; text-decoration-color: #008080; font-weight: bold\">12</span>,<span style=\"color: #008000; text-decoration-color: #008000\">\"buy\"</span>:<span style=\"color: #008080; text-decoration-color: #008080; font-weight: bold\">48</span>,<span style=\"color: #008000; text-decoration-color: #008000\">\"hold\"</span>:<span style=\"color: #008080; text-decoration-color: #008080; font-weight: bold\">4</span>,<span style=\"color: #008000; text-decoration-color: #008000\">\"sell\"</span>:<span style=\"color: #008080; text-decoration-color: #008080; font-weight: bold\">0</span>,<span style=\"color: #008000; text-decoration-color: #008000\">\"strongSell\"</span>:<span style=\"color: #008080; text-decoration-color: #008080; font-weight: bold\">0</span><span style=\"font-weight: bold\">}</span>,<span style=\"color: #008000; text-decoration-color: #008000\">\"2\"</span>:<span style=\"font-weight: bold\">{</span><span style=\"color: #008000; text-decoration-color: #008000\">\"period\"</span>:<span style=\"color: #008000; text-decoration-color: #008000\">\"-2m\"</span>,<span style=\"color: #008000; text-decoration-color: #008000\">\"strongBuy\"</span>:<span style=\"color: #008080; text-decoration-color: #008080; font-weight: bold\">12</span>,<span style=\"color: #008000; text-decoration-color: #008000\">\"buy\"</span>:<span style=\"color: #008080; text-decoration-color: #008080; font-weight: bold\">48</span>,<span style=\"color: #008000; text-decoration-color: #008000\">\"hold\"</span>:<span style=\"color: #008080; text-decoration-color: #008080; font-weight: bold\">4</span>,<span style=\"color: #008000; text-decoration-color: #008000\">\"se</span>\n",
       "         <span style=\"color: #008000; text-decoration-color: #008000\">ll\"</span>:<span style=\"color: #008080; text-decoration-color: #008080; font-weight: bold\">0</span>,<span style=\"color: #008000; text-decoration-color: #008000\">\"strongSell\"</span>:<span style=\"color: #008080; text-decoration-color: #008080; font-weight: bold\">0</span><span style=\"font-weight: bold\">}</span>,<span style=\"color: #008000; text-decoration-color: #008000\">\"3\"</span>:<span style=\"font-weight: bold\">{</span><span style=\"color: #008000; text-decoration-color: #008000\">\"period\"</span>:<span style=\"color: #008000; text-decoration-color: #008000\">\"-3m\"</span>,<span style=\"color: #008000; text-decoration-color: #008000\">\"strongBuy\"</span>:<span style=\"color: #008080; text-decoration-color: #008080; font-weight: bold\">11</span>,<span style=\"color: #008000; text-decoration-color: #008000\">\"buy\"</span>:<span style=\"color: #008080; text-decoration-color: #008080; font-weight: bold\">48</span>,<span style=\"color: #008000; text-decoration-color: #008000\">\"hold\"</span>:<span style=\"color: #008080; text-decoration-color: #008080; font-weight: bold\">3</span>,<span style=\"color: #008000; text-decoration-color: #008000\">\"sell\"</span>:<span style=\"color: #008080; text-decoration-color: #008080; font-weight: bold\">0</span>,<span style=\"color: #008000; text-decoration-color: #008000\">\"strongSell\"</span>:<span style=\"color: #008080; text-decoration-color: #008080; font-weight: bold\">1</span><span style=\"font-weight: bold\">}}</span>      \n",
       "</pre>\n"
      ],
      "text/plain": [
       "\u001b[32mDEBUG   \u001b[0m \u001b[1m{\u001b[0m\u001b[32m\"0\"\u001b[0m:\u001b[1m{\u001b[0m\u001b[32m\"period\"\u001b[0m:\u001b[32m\"0m\"\u001b[0m,\u001b[32m\"strongBuy\"\u001b[0m:\u001b[1;36m12\u001b[0m,\u001b[32m\"buy\"\u001b[0m:\u001b[1;36m47\u001b[0m,\u001b[32m\"hold\"\u001b[0m:\u001b[1;36m4\u001b[0m,\u001b[32m\"sell\"\u001b[0m:\u001b[1;36m0\u001b[0m,\u001b[32m\"strongSell\"\u001b[0m:\u001b[1;36m0\u001b[0m\u001b[1m}\u001b[0m,\u001b[32m\"1\"\u001b[0m:\u001b[1m{\u001b[0m\u001b[32m\"period\"\u001b[0m:\u001b[32m\"-1m\"\u001b[0m,\u001b[32m\"strongB\u001b[0m\n",
       "         \u001b[32muy\"\u001b[0m:\u001b[1;36m12\u001b[0m,\u001b[32m\"buy\"\u001b[0m:\u001b[1;36m48\u001b[0m,\u001b[32m\"hold\"\u001b[0m:\u001b[1;36m4\u001b[0m,\u001b[32m\"sell\"\u001b[0m:\u001b[1;36m0\u001b[0m,\u001b[32m\"strongSell\"\u001b[0m:\u001b[1;36m0\u001b[0m\u001b[1m}\u001b[0m,\u001b[32m\"2\"\u001b[0m:\u001b[1m{\u001b[0m\u001b[32m\"period\"\u001b[0m:\u001b[32m\"-2m\"\u001b[0m,\u001b[32m\"strongBuy\"\u001b[0m:\u001b[1;36m12\u001b[0m,\u001b[32m\"buy\"\u001b[0m:\u001b[1;36m48\u001b[0m,\u001b[32m\"hold\"\u001b[0m:\u001b[1;36m4\u001b[0m,\u001b[32m\"se\u001b[0m\n",
       "         \u001b[32mll\"\u001b[0m:\u001b[1;36m0\u001b[0m,\u001b[32m\"strongSell\"\u001b[0m:\u001b[1;36m0\u001b[0m\u001b[1m}\u001b[0m,\u001b[32m\"3\"\u001b[0m:\u001b[1m{\u001b[0m\u001b[32m\"period\"\u001b[0m:\u001b[32m\"-3m\"\u001b[0m,\u001b[32m\"strongBuy\"\u001b[0m:\u001b[1;36m11\u001b[0m,\u001b[32m\"buy\"\u001b[0m:\u001b[1;36m48\u001b[0m,\u001b[32m\"hold\"\u001b[0m:\u001b[1;36m3\u001b[0m,\u001b[32m\"sell\"\u001b[0m:\u001b[1;36m0\u001b[0m,\u001b[32m\"strongSell\"\u001b[0m:\u001b[1;36m1\u001b[0m\u001b[1m}\u001b[0m\u001b[1m}\u001b[0m      \n"
      ]
     },
     "metadata": {},
     "output_type": "display_data"
    },
    {
     "data": {
      "text/html": [
       "<pre style=\"white-space:pre;overflow-x:auto;line-height:normal;font-family:Menlo,'DejaVu Sans Mono',consolas,'Courier New',monospace\"><span style=\"color: #008000; text-decoration-color: #008000\">DEBUG   </span> ============== assistant ==============                                                                   \n",
       "</pre>\n"
      ],
      "text/plain": [
       "\u001b[32mDEBUG   \u001b[0m ============== assistant ==============                                                                   \n"
      ]
     },
     "metadata": {},
     "output_type": "display_data"
    },
    {
     "data": {
      "text/html": [
       "<pre style=\"white-space:pre;overflow-x:auto;line-height:normal;font-family:Menlo,'DejaVu Sans Mono',consolas,'Courier New',monospace\"><span style=\"color: #008000; text-decoration-color: #008000\">DEBUG   </span> ### Analyst Recommendations for TSLA and NVDA                                                             \n",
       "         |  | TSLA | NVDA |                                                                                        \n",
       "         | --- | --- | --- |                                                                                       \n",
       "         | Strong Buy | <span style=\"color: #008080; text-decoration-color: #008080; font-weight: bold\">7</span> | <span style=\"color: #008080; text-decoration-color: #008080; font-weight: bold\">12</span> |                                                                                   \n",
       "         | Buy | <span style=\"color: #008080; text-decoration-color: #008080; font-weight: bold\">13</span> | <span style=\"color: #008080; text-decoration-color: #008080; font-weight: bold\">47</span> |                                                                                         \n",
       "         | Hold | <span style=\"color: #008080; text-decoration-color: #008080; font-weight: bold\">15</span> | <span style=\"color: #008080; text-decoration-color: #008080; font-weight: bold\">4</span> |                                                                                         \n",
       "         | Sell | <span style=\"color: #008080; text-decoration-color: #008080; font-weight: bold\">9</span> | <span style=\"color: #008080; text-decoration-color: #008080; font-weight: bold\">0</span> |                                                                                          \n",
       "         | Strong Sell | <span style=\"color: #008080; text-decoration-color: #008080; font-weight: bold\">4</span> | <span style=\"color: #008080; text-decoration-color: #008080; font-weight: bold\">0</span> |                                                                                   \n",
       "                                                                                                                   \n",
       "                                                                                                                   \n",
       "</pre>\n"
      ],
      "text/plain": [
       "\u001b[32mDEBUG   \u001b[0m ### Analyst Recommendations for TSLA and NVDA                                                             \n",
       "         |  | TSLA | NVDA |                                                                                        \n",
       "         | --- | --- | --- |                                                                                       \n",
       "         | Strong Buy | \u001b[1;36m7\u001b[0m | \u001b[1;36m12\u001b[0m |                                                                                   \n",
       "         | Buy | \u001b[1;36m13\u001b[0m | \u001b[1;36m47\u001b[0m |                                                                                         \n",
       "         | Hold | \u001b[1;36m15\u001b[0m | \u001b[1;36m4\u001b[0m |                                                                                         \n",
       "         | Sell | \u001b[1;36m9\u001b[0m | \u001b[1;36m0\u001b[0m |                                                                                          \n",
       "         | Strong Sell | \u001b[1;36m4\u001b[0m | \u001b[1;36m0\u001b[0m |                                                                                   \n",
       "                                                                                                                   \n",
       "                                                                                                                   \n"
      ]
     },
     "metadata": {},
     "output_type": "display_data"
    },
    {
     "data": {
      "text/html": [
       "<pre style=\"white-space:pre;overflow-x:auto;line-height:normal;font-family:Menlo,'DejaVu Sans Mono',consolas,'Courier New',monospace\"><span style=\"color: #008000; text-decoration-color: #008000\">DEBUG   </span> Tool Calls: <span style=\"font-weight: bold\">[</span>                                                                                             \n",
       "           <span style=\"font-weight: bold\">{</span>                                                                                                       \n",
       "             <span style=\"color: #008000; text-decoration-color: #008000\">\"id\"</span>: <span style=\"color: #008000; text-decoration-color: #008000\">\"call_peg1\"</span>,                                                                                    \n",
       "             <span style=\"color: #008000; text-decoration-color: #008000\">\"type\"</span>: <span style=\"color: #008000; text-decoration-color: #008000\">\"function\"</span>,                                                                                   \n",
       "             <span style=\"color: #008000; text-decoration-color: #008000\">\"function\"</span>: <span style=\"font-weight: bold\">{</span>                                                                                         \n",
       "               <span style=\"color: #008000; text-decoration-color: #008000\">\"name\"</span>: <span style=\"color: #008000; text-decoration-color: #008000\">\"get_stock_fundamentals\"</span>,                                                                   \n",
       "               <span style=\"color: #008000; text-decoration-color: #008000\">\"arguments\"</span>: <span style=\"color: #008000; text-decoration-color: #008000\">\"{\\\"symbol\\\": \\\"TSLA\\\"}\"</span>                                                               \n",
       "             <span style=\"font-weight: bold\">}</span>                                                                                                     \n",
       "           <span style=\"font-weight: bold\">}</span>,                                                                                                      \n",
       "           <span style=\"font-weight: bold\">{</span>                                                                                                       \n",
       "             <span style=\"color: #008000; text-decoration-color: #008000\">\"id\"</span>: <span style=\"color: #008000; text-decoration-color: #008000\">\"call_f5wj\"</span>,                                                                                    \n",
       "             <span style=\"color: #008000; text-decoration-color: #008000\">\"type\"</span>: <span style=\"color: #008000; text-decoration-color: #008000\">\"function\"</span>,                                                                                   \n",
       "             <span style=\"color: #008000; text-decoration-color: #008000\">\"function\"</span>: <span style=\"font-weight: bold\">{</span>                                                                                         \n",
       "               <span style=\"color: #008000; text-decoration-color: #008000\">\"name\"</span>: <span style=\"color: #008000; text-decoration-color: #008000\">\"get_stock_fundamentals\"</span>,                                                                   \n",
       "               <span style=\"color: #008000; text-decoration-color: #008000\">\"arguments\"</span>: <span style=\"color: #008000; text-decoration-color: #008000\">\"{\\\"symbol\\\": \\\"NVDA\\\"}\"</span>                                                               \n",
       "             <span style=\"font-weight: bold\">}</span>                                                                                                     \n",
       "           <span style=\"font-weight: bold\">}</span>                                                                                                       \n",
       "         <span style=\"font-weight: bold\">]</span>                                                                                                         \n",
       "</pre>\n"
      ],
      "text/plain": [
       "\u001b[32mDEBUG   \u001b[0m Tool Calls: \u001b[1m[\u001b[0m                                                                                             \n",
       "           \u001b[1m{\u001b[0m                                                                                                       \n",
       "             \u001b[32m\"id\"\u001b[0m: \u001b[32m\"call_peg1\"\u001b[0m,                                                                                    \n",
       "             \u001b[32m\"type\"\u001b[0m: \u001b[32m\"function\"\u001b[0m,                                                                                   \n",
       "             \u001b[32m\"function\"\u001b[0m: \u001b[1m{\u001b[0m                                                                                         \n",
       "               \u001b[32m\"name\"\u001b[0m: \u001b[32m\"get_stock_fundamentals\"\u001b[0m,                                                                   \n",
       "               \u001b[32m\"arguments\"\u001b[0m: \u001b[32m\"\u001b[0m\u001b[32m{\u001b[0m\u001b[32m\\\"symbol\\\": \\\"TSLA\\\"\u001b[0m\u001b[32m}\u001b[0m\u001b[32m\"\u001b[0m                                                               \n",
       "             \u001b[1m}\u001b[0m                                                                                                     \n",
       "           \u001b[1m}\u001b[0m,                                                                                                      \n",
       "           \u001b[1m{\u001b[0m                                                                                                       \n",
       "             \u001b[32m\"id\"\u001b[0m: \u001b[32m\"call_f5wj\"\u001b[0m,                                                                                    \n",
       "             \u001b[32m\"type\"\u001b[0m: \u001b[32m\"function\"\u001b[0m,                                                                                   \n",
       "             \u001b[32m\"function\"\u001b[0m: \u001b[1m{\u001b[0m                                                                                         \n",
       "               \u001b[32m\"name\"\u001b[0m: \u001b[32m\"get_stock_fundamentals\"\u001b[0m,                                                                   \n",
       "               \u001b[32m\"arguments\"\u001b[0m: \u001b[32m\"\u001b[0m\u001b[32m{\u001b[0m\u001b[32m\\\"symbol\\\": \\\"NVDA\\\"\u001b[0m\u001b[32m}\u001b[0m\u001b[32m\"\u001b[0m                                                               \n",
       "             \u001b[1m}\u001b[0m                                                                                                     \n",
       "           \u001b[1m}\u001b[0m                                                                                                       \n",
       "         \u001b[1m]\u001b[0m                                                                                                         \n"
      ]
     },
     "metadata": {},
     "output_type": "display_data"
    },
    {
     "data": {
      "text/html": [
       "<pre style=\"white-space:pre;overflow-x:auto;line-height:normal;font-family:Menlo,'DejaVu Sans Mono',consolas,'Courier New',monospace\"><span style=\"color: #008000; text-decoration-color: #008000\">DEBUG   </span> **************** METRICS START ****************                                                           \n",
       "</pre>\n"
      ],
      "text/plain": [
       "\u001b[32mDEBUG   \u001b[0m **************** METRICS START ****************                                                           \n"
      ]
     },
     "metadata": {},
     "output_type": "display_data"
    },
    {
     "data": {
      "text/html": [
       "<pre style=\"white-space:pre;overflow-x:auto;line-height:normal;font-family:Menlo,'DejaVu Sans Mono',consolas,'Courier New',monospace\"><span style=\"color: #008000; text-decoration-color: #008000\">DEBUG   </span> * Time to first token:         <span style=\"color: #008080; text-decoration-color: #008080; font-weight: bold\">0.</span>4958s                                                                    \n",
       "</pre>\n"
      ],
      "text/plain": [
       "\u001b[32mDEBUG   \u001b[0m * Time to first token:         \u001b[1;36m0.\u001b[0m4958s                                                                    \n"
      ]
     },
     "metadata": {},
     "output_type": "display_data"
    },
    {
     "data": {
      "text/html": [
       "<pre style=\"white-space:pre;overflow-x:auto;line-height:normal;font-family:Menlo,'DejaVu Sans Mono',consolas,'Courier New',monospace\"><span style=\"color: #008000; text-decoration-color: #008000\">DEBUG   </span> * Time to generate response:   <span style=\"color: #008080; text-decoration-color: #008080; font-weight: bold\">0.</span>8924s                                                                    \n",
       "</pre>\n"
      ],
      "text/plain": [
       "\u001b[32mDEBUG   \u001b[0m * Time to generate response:   \u001b[1;36m0.\u001b[0m8924s                                                                    \n"
      ]
     },
     "metadata": {},
     "output_type": "display_data"
    },
    {
     "data": {
      "text/html": [
       "<pre style=\"white-space:pre;overflow-x:auto;line-height:normal;font-family:Menlo,'DejaVu Sans Mono',consolas,'Courier New',monospace\"><span style=\"color: #008000; text-decoration-color: #008000\">DEBUG   </span> * Tokens per second:           <span style=\"color: #008080; text-decoration-color: #008080; font-weight: bold\">0.0000</span> tokens/s                                                            \n",
       "</pre>\n"
      ],
      "text/plain": [
       "\u001b[32mDEBUG   \u001b[0m * Tokens per second:           \u001b[1;36m0.0000\u001b[0m tokens/s                                                            \n"
      ]
     },
     "metadata": {},
     "output_type": "display_data"
    },
    {
     "data": {
      "text/html": [
       "<pre style=\"white-space:pre;overflow-x:auto;line-height:normal;font-family:Menlo,'DejaVu Sans Mono',consolas,'Courier New',monospace\"><span style=\"color: #008000; text-decoration-color: #008000\">DEBUG   </span> * Input tokens:                <span style=\"color: #008080; text-decoration-color: #008080; font-weight: bold\">0</span>                                                                          \n",
       "</pre>\n"
      ],
      "text/plain": [
       "\u001b[32mDEBUG   \u001b[0m * Input tokens:                \u001b[1;36m0\u001b[0m                                                                          \n"
      ]
     },
     "metadata": {},
     "output_type": "display_data"
    },
    {
     "data": {
      "text/html": [
       "<pre style=\"white-space:pre;overflow-x:auto;line-height:normal;font-family:Menlo,'DejaVu Sans Mono',consolas,'Courier New',monospace\"><span style=\"color: #008000; text-decoration-color: #008000\">DEBUG   </span> * Output tokens:               <span style=\"color: #008080; text-decoration-color: #008080; font-weight: bold\">79</span>                                                                         \n",
       "</pre>\n"
      ],
      "text/plain": [
       "\u001b[32mDEBUG   \u001b[0m * Output tokens:               \u001b[1;36m79\u001b[0m                                                                         \n"
      ]
     },
     "metadata": {},
     "output_type": "display_data"
    },
    {
     "data": {
      "text/html": [
       "<pre style=\"white-space:pre;overflow-x:auto;line-height:normal;font-family:Menlo,'DejaVu Sans Mono',consolas,'Courier New',monospace\"><span style=\"color: #008000; text-decoration-color: #008000\">DEBUG   </span> * Total tokens:                <span style=\"color: #008080; text-decoration-color: #008080; font-weight: bold\">0</span>                                                                          \n",
       "</pre>\n"
      ],
      "text/plain": [
       "\u001b[32mDEBUG   \u001b[0m * Total tokens:                \u001b[1;36m0\u001b[0m                                                                          \n"
      ]
     },
     "metadata": {},
     "output_type": "display_data"
    },
    {
     "data": {
      "text/html": [
       "<pre style=\"white-space:pre;overflow-x:auto;line-height:normal;font-family:Menlo,'DejaVu Sans Mono',consolas,'Courier New',monospace\"><span style=\"color: #008000; text-decoration-color: #008000\">DEBUG   </span> **************** METRICS END ******************                                                           \n",
       "</pre>\n"
      ],
      "text/plain": [
       "\u001b[32mDEBUG   \u001b[0m **************** METRICS END ******************                                                           \n"
      ]
     },
     "metadata": {},
     "output_type": "display_data"
    },
    {
     "data": {
      "text/html": [
       "<pre style=\"white-space:pre;overflow-x:auto;line-height:normal;font-family:Menlo,'DejaVu Sans Mono',consolas,'Courier New',monospace\"><span style=\"color: #008000; text-decoration-color: #008000\">DEBUG   </span> Getting function get_stock_fundamentals                                                                   \n",
       "</pre>\n"
      ],
      "text/plain": [
       "\u001b[32mDEBUG   \u001b[0m Getting function get_stock_fundamentals                                                                   \n"
      ]
     },
     "metadata": {},
     "output_type": "display_data"
    },
    {
     "data": {
      "text/html": [
       "<pre style=\"white-space:pre;overflow-x:auto;line-height:normal;font-family:Menlo,'DejaVu Sans Mono',consolas,'Courier New',monospace\"><span style=\"color: #008000; text-decoration-color: #008000\">DEBUG   </span> Getting function get_stock_fundamentals                                                                   \n",
       "</pre>\n"
      ],
      "text/plain": [
       "\u001b[32mDEBUG   \u001b[0m Getting function get_stock_fundamentals                                                                   \n"
      ]
     },
     "metadata": {},
     "output_type": "display_data"
    },
    {
     "data": {
      "text/html": [
       "<pre style=\"white-space:pre;overflow-x:auto;line-height:normal;font-family:Menlo,'DejaVu Sans Mono',consolas,'Courier New',monospace\"><span style=\"color: #008000; text-decoration-color: #008000\">DEBUG   </span> Running: <span style=\"color: #800080; text-decoration-color: #800080; font-weight: bold\">get_stock_fundamentals</span><span style=\"font-weight: bold\">(</span><span style=\"color: #808000; text-decoration-color: #808000\">symbol</span>=<span style=\"color: #800080; text-decoration-color: #800080\">TSLA</span><span style=\"font-weight: bold\">)</span>                                                              \n",
       "</pre>\n"
      ],
      "text/plain": [
       "\u001b[32mDEBUG   \u001b[0m Running: \u001b[1;35mget_stock_fundamentals\u001b[0m\u001b[1m(\u001b[0m\u001b[33msymbol\u001b[0m=\u001b[35mTSLA\u001b[0m\u001b[1m)\u001b[0m                                                              \n"
      ]
     },
     "metadata": {},
     "output_type": "display_data"
    },
    {
     "data": {
      "text/html": [
       "<pre style=\"white-space:pre;overflow-x:auto;line-height:normal;font-family:Menlo,'DejaVu Sans Mono',consolas,'Courier New',monospace\"><span style=\"color: #008000; text-decoration-color: #008000\">DEBUG   </span> Running: <span style=\"color: #800080; text-decoration-color: #800080; font-weight: bold\">get_stock_fundamentals</span><span style=\"font-weight: bold\">(</span><span style=\"color: #808000; text-decoration-color: #808000\">symbol</span>=<span style=\"color: #800080; text-decoration-color: #800080\">NVDA</span><span style=\"font-weight: bold\">)</span>                                                              \n",
       "</pre>\n"
      ],
      "text/plain": [
       "\u001b[32mDEBUG   \u001b[0m Running: \u001b[1;35mget_stock_fundamentals\u001b[0m\u001b[1m(\u001b[0m\u001b[33msymbol\u001b[0m=\u001b[35mNVDA\u001b[0m\u001b[1m)\u001b[0m                                                              \n"
      ]
     },
     "metadata": {},
     "output_type": "display_data"
    },
    {
     "data": {
      "text/html": [
       "<pre style=\"white-space:pre;overflow-x:auto;line-height:normal;font-family:Menlo,'DejaVu Sans Mono',consolas,'Courier New',monospace\"><span style=\"color: #008000; text-decoration-color: #008000\">DEBUG   </span> ---------- Groq Response Start ----------                                                                 \n",
       "</pre>\n"
      ],
      "text/plain": [
       "\u001b[32mDEBUG   \u001b[0m ---------- Groq Response Start ----------                                                                 \n"
      ]
     },
     "metadata": {},
     "output_type": "display_data"
    },
    {
     "data": {
      "text/html": [
       "<pre style=\"white-space:pre;overflow-x:auto;line-height:normal;font-family:Menlo,'DejaVu Sans Mono',consolas,'Courier New',monospace\"><span style=\"color: #008000; text-decoration-color: #008000\">DEBUG   </span> ============== system ==============                                                                      \n",
       "</pre>\n"
      ],
      "text/plain": [
       "\u001b[32mDEBUG   \u001b[0m ============== system ==============                                                                      \n"
      ]
     },
     "metadata": {},
     "output_type": "display_data"
    },
    {
     "data": {
      "text/html": [
       "<pre style=\"white-space:pre;overflow-x:auto;line-height:normal;font-family:Menlo,'DejaVu Sans Mono',consolas,'Courier New',monospace\"><span style=\"color: #008000; text-decoration-color: #008000\">DEBUG   </span> ## Instructions                                                                                           \n",
       "         - Use tables to display data.                                                                             \n",
       "         - If you need to find the symbol for a company, use the get_company_symbol tool.                          \n",
       "         - Use markdown to format your answers.                                                                    \n",
       "</pre>\n"
      ],
      "text/plain": [
       "\u001b[32mDEBUG   \u001b[0m ## Instructions                                                                                           \n",
       "         - Use tables to display data.                                                                             \n",
       "         - If you need to find the symbol for a company, use the get_company_symbol tool.                          \n",
       "         - Use markdown to format your answers.                                                                    \n"
      ]
     },
     "metadata": {},
     "output_type": "display_data"
    },
    {
     "data": {
      "text/html": [
       "<pre style=\"white-space:pre;overflow-x:auto;line-height:normal;font-family:Menlo,'DejaVu Sans Mono',consolas,'Courier New',monospace\"><span style=\"color: #008000; text-decoration-color: #008000\">DEBUG   </span> ============== user ==============                                                                        \n",
       "</pre>\n"
      ],
      "text/plain": [
       "\u001b[32mDEBUG   \u001b[0m ============== user ==============                                                                        \n"
      ]
     },
     "metadata": {},
     "output_type": "display_data"
    },
    {
     "data": {
      "text/html": [
       "<pre style=\"white-space:pre;overflow-x:auto;line-height:normal;font-family:Menlo,'DejaVu Sans Mono',consolas,'Courier New',monospace\"><span style=\"color: #008000; text-decoration-color: #008000\">DEBUG   </span> Summarize and compare analyst recommendations and fundamentals for TSLA and NVDA. Show in tables.         \n",
       "</pre>\n"
      ],
      "text/plain": [
       "\u001b[32mDEBUG   \u001b[0m Summarize and compare analyst recommendations and fundamentals for TSLA and NVDA. Show in tables.         \n"
      ]
     },
     "metadata": {},
     "output_type": "display_data"
    },
    {
     "data": {
      "text/html": [
       "<pre style=\"white-space:pre;overflow-x:auto;line-height:normal;font-family:Menlo,'DejaVu Sans Mono',consolas,'Courier New',monospace\"><span style=\"color: #008000; text-decoration-color: #008000\">DEBUG   </span> ============== assistant ==============                                                                   \n",
       "</pre>\n"
      ],
      "text/plain": [
       "\u001b[32mDEBUG   \u001b[0m ============== assistant ==============                                                                   \n"
      ]
     },
     "metadata": {},
     "output_type": "display_data"
    },
    {
     "data": {
      "text/html": [
       "<pre style=\"white-space:pre;overflow-x:auto;line-height:normal;font-family:Menlo,'DejaVu Sans Mono',consolas,'Courier New',monospace\"><span style=\"color: #008000; text-decoration-color: #008000\">DEBUG   </span> ### Analyst Recommendations for TSLA and NVDA                                                             \n",
       "         To summarize and compare analyst recommendations for TSLA and NVDA, we will first retrieve the data using \n",
       "         the following function calls:                                                                             \n",
       "                                                                                                                   \n",
       "                                                                                                                   \n",
       "</pre>\n"
      ],
      "text/plain": [
       "\u001b[32mDEBUG   \u001b[0m ### Analyst Recommendations for TSLA and NVDA                                                             \n",
       "         To summarize and compare analyst recommendations for TSLA and NVDA, we will first retrieve the data using \n",
       "         the following function calls:                                                                             \n",
       "                                                                                                                   \n",
       "                                                                                                                   \n"
      ]
     },
     "metadata": {},
     "output_type": "display_data"
    },
    {
     "data": {
      "text/html": [
       "<pre style=\"white-space:pre;overflow-x:auto;line-height:normal;font-family:Menlo,'DejaVu Sans Mono',consolas,'Courier New',monospace\"><span style=\"color: #008000; text-decoration-color: #008000\">DEBUG   </span> Tool Calls: <span style=\"font-weight: bold\">[</span>                                                                                             \n",
       "           <span style=\"font-weight: bold\">{</span>                                                                                                       \n",
       "             <span style=\"color: #008000; text-decoration-color: #008000\">\"id\"</span>: <span style=\"color: #008000; text-decoration-color: #008000\">\"call_rs4w\"</span>,                                                                                    \n",
       "             <span style=\"color: #008000; text-decoration-color: #008000\">\"type\"</span>: <span style=\"color: #008000; text-decoration-color: #008000\">\"function\"</span>,                                                                                   \n",
       "             <span style=\"color: #008000; text-decoration-color: #008000\">\"function\"</span>: <span style=\"font-weight: bold\">{</span>                                                                                         \n",
       "               <span style=\"color: #008000; text-decoration-color: #008000\">\"name\"</span>: <span style=\"color: #008000; text-decoration-color: #008000\">\"get_analyst_recommendations\"</span>,                                                              \n",
       "               <span style=\"color: #008000; text-decoration-color: #008000\">\"arguments\"</span>: <span style=\"color: #008000; text-decoration-color: #008000\">\"{\\\"symbol\\\": \\\"TSLA\\\"}\"</span>                                                               \n",
       "             <span style=\"font-weight: bold\">}</span>                                                                                                     \n",
       "           <span style=\"font-weight: bold\">}</span>,                                                                                                      \n",
       "           <span style=\"font-weight: bold\">{</span>                                                                                                       \n",
       "             <span style=\"color: #008000; text-decoration-color: #008000\">\"id\"</span>: <span style=\"color: #008000; text-decoration-color: #008000\">\"call_5v6v\"</span>,                                                                                    \n",
       "             <span style=\"color: #008000; text-decoration-color: #008000\">\"type\"</span>: <span style=\"color: #008000; text-decoration-color: #008000\">\"function\"</span>,                                                                                   \n",
       "             <span style=\"color: #008000; text-decoration-color: #008000\">\"function\"</span>: <span style=\"font-weight: bold\">{</span>                                                                                         \n",
       "               <span style=\"color: #008000; text-decoration-color: #008000\">\"name\"</span>: <span style=\"color: #008000; text-decoration-color: #008000\">\"get_analyst_recommendations\"</span>,                                                              \n",
       "               <span style=\"color: #008000; text-decoration-color: #008000\">\"arguments\"</span>: <span style=\"color: #008000; text-decoration-color: #008000\">\"{\\\"symbol\\\": \\\"NVDA\\\"}\"</span>                                                               \n",
       "             <span style=\"font-weight: bold\">}</span>                                                                                                     \n",
       "           <span style=\"font-weight: bold\">}</span>                                                                                                       \n",
       "         <span style=\"font-weight: bold\">]</span>                                                                                                         \n",
       "</pre>\n"
      ],
      "text/plain": [
       "\u001b[32mDEBUG   \u001b[0m Tool Calls: \u001b[1m[\u001b[0m                                                                                             \n",
       "           \u001b[1m{\u001b[0m                                                                                                       \n",
       "             \u001b[32m\"id\"\u001b[0m: \u001b[32m\"call_rs4w\"\u001b[0m,                                                                                    \n",
       "             \u001b[32m\"type\"\u001b[0m: \u001b[32m\"function\"\u001b[0m,                                                                                   \n",
       "             \u001b[32m\"function\"\u001b[0m: \u001b[1m{\u001b[0m                                                                                         \n",
       "               \u001b[32m\"name\"\u001b[0m: \u001b[32m\"get_analyst_recommendations\"\u001b[0m,                                                              \n",
       "               \u001b[32m\"arguments\"\u001b[0m: \u001b[32m\"\u001b[0m\u001b[32m{\u001b[0m\u001b[32m\\\"symbol\\\": \\\"TSLA\\\"\u001b[0m\u001b[32m}\u001b[0m\u001b[32m\"\u001b[0m                                                               \n",
       "             \u001b[1m}\u001b[0m                                                                                                     \n",
       "           \u001b[1m}\u001b[0m,                                                                                                      \n",
       "           \u001b[1m{\u001b[0m                                                                                                       \n",
       "             \u001b[32m\"id\"\u001b[0m: \u001b[32m\"call_5v6v\"\u001b[0m,                                                                                    \n",
       "             \u001b[32m\"type\"\u001b[0m: \u001b[32m\"function\"\u001b[0m,                                                                                   \n",
       "             \u001b[32m\"function\"\u001b[0m: \u001b[1m{\u001b[0m                                                                                         \n",
       "               \u001b[32m\"name\"\u001b[0m: \u001b[32m\"get_analyst_recommendations\"\u001b[0m,                                                              \n",
       "               \u001b[32m\"arguments\"\u001b[0m: \u001b[32m\"\u001b[0m\u001b[32m{\u001b[0m\u001b[32m\\\"symbol\\\": \\\"NVDA\\\"\u001b[0m\u001b[32m}\u001b[0m\u001b[32m\"\u001b[0m                                                               \n",
       "             \u001b[1m}\u001b[0m                                                                                                     \n",
       "           \u001b[1m}\u001b[0m                                                                                                       \n",
       "         \u001b[1m]\u001b[0m                                                                                                         \n"
      ]
     },
     "metadata": {},
     "output_type": "display_data"
    },
    {
     "data": {
      "text/html": [
       "<pre style=\"white-space:pre;overflow-x:auto;line-height:normal;font-family:Menlo,'DejaVu Sans Mono',consolas,'Courier New',monospace\"><span style=\"color: #008000; text-decoration-color: #008000\">DEBUG   </span> ============== tool ==============                                                                        \n",
       "</pre>\n"
      ],
      "text/plain": [
       "\u001b[32mDEBUG   \u001b[0m ============== tool ==============                                                                        \n"
      ]
     },
     "metadata": {},
     "output_type": "display_data"
    },
    {
     "data": {
      "text/html": [
       "<pre style=\"white-space:pre;overflow-x:auto;line-height:normal;font-family:Menlo,'DejaVu Sans Mono',consolas,'Courier New',monospace\"><span style=\"color: #008000; text-decoration-color: #008000\">DEBUG   </span> Tool call Id: call_rs4w                                                                                   \n",
       "</pre>\n"
      ],
      "text/plain": [
       "\u001b[32mDEBUG   \u001b[0m Tool call Id: call_rs4w                                                                                   \n"
      ]
     },
     "metadata": {},
     "output_type": "display_data"
    },
    {
     "data": {
      "text/html": [
       "<pre style=\"white-space:pre;overflow-x:auto;line-height:normal;font-family:Menlo,'DejaVu Sans Mono',consolas,'Courier New',monospace\"><span style=\"color: #008000; text-decoration-color: #008000\">DEBUG   </span> <span style=\"font-weight: bold\">{</span><span style=\"color: #008000; text-decoration-color: #008000\">\"0\"</span>:<span style=\"font-weight: bold\">{</span><span style=\"color: #008000; text-decoration-color: #008000\">\"period\"</span>:<span style=\"color: #008000; text-decoration-color: #008000\">\"0m\"</span>,<span style=\"color: #008000; text-decoration-color: #008000\">\"strongBuy\"</span>:<span style=\"color: #008080; text-decoration-color: #008080; font-weight: bold\">7</span>,<span style=\"color: #008000; text-decoration-color: #008000\">\"buy\"</span>:<span style=\"color: #008080; text-decoration-color: #008080; font-weight: bold\">13</span>,<span style=\"color: #008000; text-decoration-color: #008000\">\"hold\"</span>:<span style=\"color: #008080; text-decoration-color: #008080; font-weight: bold\">15</span>,<span style=\"color: #008000; text-decoration-color: #008000\">\"sell\"</span>:<span style=\"color: #008080; text-decoration-color: #008080; font-weight: bold\">9</span>,<span style=\"color: #008000; text-decoration-color: #008000\">\"strongSell\"</span>:<span style=\"color: #008080; text-decoration-color: #008080; font-weight: bold\">4</span><span style=\"font-weight: bold\">}</span>,<span style=\"color: #008000; text-decoration-color: #008000\">\"1\"</span>:<span style=\"font-weight: bold\">{</span><span style=\"color: #008000; text-decoration-color: #008000\">\"period\"</span>:<span style=\"color: #008000; text-decoration-color: #008000\">\"-1m\"</span>,<span style=\"color: #008000; text-decoration-color: #008000\">\"strongB</span>\n",
       "         <span style=\"color: #008000; text-decoration-color: #008000\">uy\"</span>:<span style=\"color: #008080; text-decoration-color: #008080; font-weight: bold\">6</span>,<span style=\"color: #008000; text-decoration-color: #008000\">\"buy\"</span>:<span style=\"color: #008080; text-decoration-color: #008080; font-weight: bold\">14</span>,<span style=\"color: #008000; text-decoration-color: #008000\">\"hold\"</span>:<span style=\"color: #008080; text-decoration-color: #008080; font-weight: bold\">15</span>,<span style=\"color: #008000; text-decoration-color: #008000\">\"sell\"</span>:<span style=\"color: #008080; text-decoration-color: #008080; font-weight: bold\">8</span>,<span style=\"color: #008000; text-decoration-color: #008000\">\"strongSell\"</span>:<span style=\"color: #008080; text-decoration-color: #008080; font-weight: bold\">5</span><span style=\"font-weight: bold\">}</span>,<span style=\"color: #008000; text-decoration-color: #008000\">\"2\"</span>:<span style=\"font-weight: bold\">{</span><span style=\"color: #008000; text-decoration-color: #008000\">\"period\"</span>:<span style=\"color: #008000; text-decoration-color: #008000\">\"-2m\"</span>,<span style=\"color: #008000; text-decoration-color: #008000\">\"strongBuy\"</span>:<span style=\"color: #008080; text-decoration-color: #008080; font-weight: bold\">5</span>,<span style=\"color: #008000; text-decoration-color: #008000\">\"buy\"</span>:<span style=\"color: #008080; text-decoration-color: #008080; font-weight: bold\">13</span>,<span style=\"color: #008000; text-decoration-color: #008000\">\"hold\"</span>:<span style=\"color: #008080; text-decoration-color: #008080; font-weight: bold\">17</span>,<span style=\"color: #008000; text-decoration-color: #008000\">\"se</span>\n",
       "         <span style=\"color: #008000; text-decoration-color: #008000\">ll\"</span>:<span style=\"color: #008080; text-decoration-color: #008080; font-weight: bold\">8</span>,<span style=\"color: #008000; text-decoration-color: #008000\">\"strongSell\"</span>:<span style=\"color: #008080; text-decoration-color: #008080; font-weight: bold\">5</span><span style=\"font-weight: bold\">}</span>,<span style=\"color: #008000; text-decoration-color: #008000\">\"3\"</span>:<span style=\"font-weight: bold\">{</span><span style=\"color: #008000; text-decoration-color: #008000\">\"period\"</span>:<span style=\"color: #008000; text-decoration-color: #008000\">\"-3m\"</span>,<span style=\"color: #008000; text-decoration-color: #008000\">\"strongBuy\"</span>:<span style=\"color: #008080; text-decoration-color: #008080; font-weight: bold\">6</span>,<span style=\"color: #008000; text-decoration-color: #008000\">\"buy\"</span>:<span style=\"color: #008080; text-decoration-color: #008080; font-weight: bold\">12</span>,<span style=\"color: #008000; text-decoration-color: #008000\">\"hold\"</span>:<span style=\"color: #008080; text-decoration-color: #008080; font-weight: bold\">19</span>,<span style=\"color: #008000; text-decoration-color: #008000\">\"sell\"</span>:<span style=\"color: #008080; text-decoration-color: #008080; font-weight: bold\">7</span>,<span style=\"color: #008000; text-decoration-color: #008000\">\"strongSell\"</span>:<span style=\"color: #008080; text-decoration-color: #008080; font-weight: bold\">4</span><span style=\"font-weight: bold\">}}</span>      \n",
       "</pre>\n"
      ],
      "text/plain": [
       "\u001b[32mDEBUG   \u001b[0m \u001b[1m{\u001b[0m\u001b[32m\"0\"\u001b[0m:\u001b[1m{\u001b[0m\u001b[32m\"period\"\u001b[0m:\u001b[32m\"0m\"\u001b[0m,\u001b[32m\"strongBuy\"\u001b[0m:\u001b[1;36m7\u001b[0m,\u001b[32m\"buy\"\u001b[0m:\u001b[1;36m13\u001b[0m,\u001b[32m\"hold\"\u001b[0m:\u001b[1;36m15\u001b[0m,\u001b[32m\"sell\"\u001b[0m:\u001b[1;36m9\u001b[0m,\u001b[32m\"strongSell\"\u001b[0m:\u001b[1;36m4\u001b[0m\u001b[1m}\u001b[0m,\u001b[32m\"1\"\u001b[0m:\u001b[1m{\u001b[0m\u001b[32m\"period\"\u001b[0m:\u001b[32m\"-1m\"\u001b[0m,\u001b[32m\"strongB\u001b[0m\n",
       "         \u001b[32muy\"\u001b[0m:\u001b[1;36m6\u001b[0m,\u001b[32m\"buy\"\u001b[0m:\u001b[1;36m14\u001b[0m,\u001b[32m\"hold\"\u001b[0m:\u001b[1;36m15\u001b[0m,\u001b[32m\"sell\"\u001b[0m:\u001b[1;36m8\u001b[0m,\u001b[32m\"strongSell\"\u001b[0m:\u001b[1;36m5\u001b[0m\u001b[1m}\u001b[0m,\u001b[32m\"2\"\u001b[0m:\u001b[1m{\u001b[0m\u001b[32m\"period\"\u001b[0m:\u001b[32m\"-2m\"\u001b[0m,\u001b[32m\"strongBuy\"\u001b[0m:\u001b[1;36m5\u001b[0m,\u001b[32m\"buy\"\u001b[0m:\u001b[1;36m13\u001b[0m,\u001b[32m\"hold\"\u001b[0m:\u001b[1;36m17\u001b[0m,\u001b[32m\"se\u001b[0m\n",
       "         \u001b[32mll\"\u001b[0m:\u001b[1;36m8\u001b[0m,\u001b[32m\"strongSell\"\u001b[0m:\u001b[1;36m5\u001b[0m\u001b[1m}\u001b[0m,\u001b[32m\"3\"\u001b[0m:\u001b[1m{\u001b[0m\u001b[32m\"period\"\u001b[0m:\u001b[32m\"-3m\"\u001b[0m,\u001b[32m\"strongBuy\"\u001b[0m:\u001b[1;36m6\u001b[0m,\u001b[32m\"buy\"\u001b[0m:\u001b[1;36m12\u001b[0m,\u001b[32m\"hold\"\u001b[0m:\u001b[1;36m19\u001b[0m,\u001b[32m\"sell\"\u001b[0m:\u001b[1;36m7\u001b[0m,\u001b[32m\"strongSell\"\u001b[0m:\u001b[1;36m4\u001b[0m\u001b[1m}\u001b[0m\u001b[1m}\u001b[0m      \n"
      ]
     },
     "metadata": {},
     "output_type": "display_data"
    },
    {
     "data": {
      "text/html": [
       "<pre style=\"white-space:pre;overflow-x:auto;line-height:normal;font-family:Menlo,'DejaVu Sans Mono',consolas,'Courier New',monospace\"><span style=\"color: #008000; text-decoration-color: #008000\">DEBUG   </span> ============== tool ==============                                                                        \n",
       "</pre>\n"
      ],
      "text/plain": [
       "\u001b[32mDEBUG   \u001b[0m ============== tool ==============                                                                        \n"
      ]
     },
     "metadata": {},
     "output_type": "display_data"
    },
    {
     "data": {
      "text/html": [
       "<pre style=\"white-space:pre;overflow-x:auto;line-height:normal;font-family:Menlo,'DejaVu Sans Mono',consolas,'Courier New',monospace\"><span style=\"color: #008000; text-decoration-color: #008000\">DEBUG   </span> Tool call Id: call_5v6v                                                                                   \n",
       "</pre>\n"
      ],
      "text/plain": [
       "\u001b[32mDEBUG   \u001b[0m Tool call Id: call_5v6v                                                                                   \n"
      ]
     },
     "metadata": {},
     "output_type": "display_data"
    },
    {
     "data": {
      "text/html": [
       "<pre style=\"white-space:pre;overflow-x:auto;line-height:normal;font-family:Menlo,'DejaVu Sans Mono',consolas,'Courier New',monospace\"><span style=\"color: #008000; text-decoration-color: #008000\">DEBUG   </span> <span style=\"font-weight: bold\">{</span><span style=\"color: #008000; text-decoration-color: #008000\">\"0\"</span>:<span style=\"font-weight: bold\">{</span><span style=\"color: #008000; text-decoration-color: #008000\">\"period\"</span>:<span style=\"color: #008000; text-decoration-color: #008000\">\"0m\"</span>,<span style=\"color: #008000; text-decoration-color: #008000\">\"strongBuy\"</span>:<span style=\"color: #008080; text-decoration-color: #008080; font-weight: bold\">12</span>,<span style=\"color: #008000; text-decoration-color: #008000\">\"buy\"</span>:<span style=\"color: #008080; text-decoration-color: #008080; font-weight: bold\">47</span>,<span style=\"color: #008000; text-decoration-color: #008000\">\"hold\"</span>:<span style=\"color: #008080; text-decoration-color: #008080; font-weight: bold\">4</span>,<span style=\"color: #008000; text-decoration-color: #008000\">\"sell\"</span>:<span style=\"color: #008080; text-decoration-color: #008080; font-weight: bold\">0</span>,<span style=\"color: #008000; text-decoration-color: #008000\">\"strongSell\"</span>:<span style=\"color: #008080; text-decoration-color: #008080; font-weight: bold\">0</span><span style=\"font-weight: bold\">}</span>,<span style=\"color: #008000; text-decoration-color: #008000\">\"1\"</span>:<span style=\"font-weight: bold\">{</span><span style=\"color: #008000; text-decoration-color: #008000\">\"period\"</span>:<span style=\"color: #008000; text-decoration-color: #008000\">\"-1m\"</span>,<span style=\"color: #008000; text-decoration-color: #008000\">\"strongB</span>\n",
       "         <span style=\"color: #008000; text-decoration-color: #008000\">uy\"</span>:<span style=\"color: #008080; text-decoration-color: #008080; font-weight: bold\">12</span>,<span style=\"color: #008000; text-decoration-color: #008000\">\"buy\"</span>:<span style=\"color: #008080; text-decoration-color: #008080; font-weight: bold\">48</span>,<span style=\"color: #008000; text-decoration-color: #008000\">\"hold\"</span>:<span style=\"color: #008080; text-decoration-color: #008080; font-weight: bold\">4</span>,<span style=\"color: #008000; text-decoration-color: #008000\">\"sell\"</span>:<span style=\"color: #008080; text-decoration-color: #008080; font-weight: bold\">0</span>,<span style=\"color: #008000; text-decoration-color: #008000\">\"strongSell\"</span>:<span style=\"color: #008080; text-decoration-color: #008080; font-weight: bold\">0</span><span style=\"font-weight: bold\">}</span>,<span style=\"color: #008000; text-decoration-color: #008000\">\"2\"</span>:<span style=\"font-weight: bold\">{</span><span style=\"color: #008000; text-decoration-color: #008000\">\"period\"</span>:<span style=\"color: #008000; text-decoration-color: #008000\">\"-2m\"</span>,<span style=\"color: #008000; text-decoration-color: #008000\">\"strongBuy\"</span>:<span style=\"color: #008080; text-decoration-color: #008080; font-weight: bold\">12</span>,<span style=\"color: #008000; text-decoration-color: #008000\">\"buy\"</span>:<span style=\"color: #008080; text-decoration-color: #008080; font-weight: bold\">48</span>,<span style=\"color: #008000; text-decoration-color: #008000\">\"hold\"</span>:<span style=\"color: #008080; text-decoration-color: #008080; font-weight: bold\">4</span>,<span style=\"color: #008000; text-decoration-color: #008000\">\"se</span>\n",
       "         <span style=\"color: #008000; text-decoration-color: #008000\">ll\"</span>:<span style=\"color: #008080; text-decoration-color: #008080; font-weight: bold\">0</span>,<span style=\"color: #008000; text-decoration-color: #008000\">\"strongSell\"</span>:<span style=\"color: #008080; text-decoration-color: #008080; font-weight: bold\">0</span><span style=\"font-weight: bold\">}</span>,<span style=\"color: #008000; text-decoration-color: #008000\">\"3\"</span>:<span style=\"font-weight: bold\">{</span><span style=\"color: #008000; text-decoration-color: #008000\">\"period\"</span>:<span style=\"color: #008000; text-decoration-color: #008000\">\"-3m\"</span>,<span style=\"color: #008000; text-decoration-color: #008000\">\"strongBuy\"</span>:<span style=\"color: #008080; text-decoration-color: #008080; font-weight: bold\">11</span>,<span style=\"color: #008000; text-decoration-color: #008000\">\"buy\"</span>:<span style=\"color: #008080; text-decoration-color: #008080; font-weight: bold\">48</span>,<span style=\"color: #008000; text-decoration-color: #008000\">\"hold\"</span>:<span style=\"color: #008080; text-decoration-color: #008080; font-weight: bold\">3</span>,<span style=\"color: #008000; text-decoration-color: #008000\">\"sell\"</span>:<span style=\"color: #008080; text-decoration-color: #008080; font-weight: bold\">0</span>,<span style=\"color: #008000; text-decoration-color: #008000\">\"strongSell\"</span>:<span style=\"color: #008080; text-decoration-color: #008080; font-weight: bold\">1</span><span style=\"font-weight: bold\">}}</span>      \n",
       "</pre>\n"
      ],
      "text/plain": [
       "\u001b[32mDEBUG   \u001b[0m \u001b[1m{\u001b[0m\u001b[32m\"0\"\u001b[0m:\u001b[1m{\u001b[0m\u001b[32m\"period\"\u001b[0m:\u001b[32m\"0m\"\u001b[0m,\u001b[32m\"strongBuy\"\u001b[0m:\u001b[1;36m12\u001b[0m,\u001b[32m\"buy\"\u001b[0m:\u001b[1;36m47\u001b[0m,\u001b[32m\"hold\"\u001b[0m:\u001b[1;36m4\u001b[0m,\u001b[32m\"sell\"\u001b[0m:\u001b[1;36m0\u001b[0m,\u001b[32m\"strongSell\"\u001b[0m:\u001b[1;36m0\u001b[0m\u001b[1m}\u001b[0m,\u001b[32m\"1\"\u001b[0m:\u001b[1m{\u001b[0m\u001b[32m\"period\"\u001b[0m:\u001b[32m\"-1m\"\u001b[0m,\u001b[32m\"strongB\u001b[0m\n",
       "         \u001b[32muy\"\u001b[0m:\u001b[1;36m12\u001b[0m,\u001b[32m\"buy\"\u001b[0m:\u001b[1;36m48\u001b[0m,\u001b[32m\"hold\"\u001b[0m:\u001b[1;36m4\u001b[0m,\u001b[32m\"sell\"\u001b[0m:\u001b[1;36m0\u001b[0m,\u001b[32m\"strongSell\"\u001b[0m:\u001b[1;36m0\u001b[0m\u001b[1m}\u001b[0m,\u001b[32m\"2\"\u001b[0m:\u001b[1m{\u001b[0m\u001b[32m\"period\"\u001b[0m:\u001b[32m\"-2m\"\u001b[0m,\u001b[32m\"strongBuy\"\u001b[0m:\u001b[1;36m12\u001b[0m,\u001b[32m\"buy\"\u001b[0m:\u001b[1;36m48\u001b[0m,\u001b[32m\"hold\"\u001b[0m:\u001b[1;36m4\u001b[0m,\u001b[32m\"se\u001b[0m\n",
       "         \u001b[32mll\"\u001b[0m:\u001b[1;36m0\u001b[0m,\u001b[32m\"strongSell\"\u001b[0m:\u001b[1;36m0\u001b[0m\u001b[1m}\u001b[0m,\u001b[32m\"3\"\u001b[0m:\u001b[1m{\u001b[0m\u001b[32m\"period\"\u001b[0m:\u001b[32m\"-3m\"\u001b[0m,\u001b[32m\"strongBuy\"\u001b[0m:\u001b[1;36m11\u001b[0m,\u001b[32m\"buy\"\u001b[0m:\u001b[1;36m48\u001b[0m,\u001b[32m\"hold\"\u001b[0m:\u001b[1;36m3\u001b[0m,\u001b[32m\"sell\"\u001b[0m:\u001b[1;36m0\u001b[0m,\u001b[32m\"strongSell\"\u001b[0m:\u001b[1;36m1\u001b[0m\u001b[1m}\u001b[0m\u001b[1m}\u001b[0m      \n"
      ]
     },
     "metadata": {},
     "output_type": "display_data"
    },
    {
     "data": {
      "text/html": [
       "<pre style=\"white-space:pre;overflow-x:auto;line-height:normal;font-family:Menlo,'DejaVu Sans Mono',consolas,'Courier New',monospace\"><span style=\"color: #008000; text-decoration-color: #008000\">DEBUG   </span> ============== assistant ==============                                                                   \n",
       "</pre>\n"
      ],
      "text/plain": [
       "\u001b[32mDEBUG   \u001b[0m ============== assistant ==============                                                                   \n"
      ]
     },
     "metadata": {},
     "output_type": "display_data"
    },
    {
     "data": {
      "text/html": [
       "<pre style=\"white-space:pre;overflow-x:auto;line-height:normal;font-family:Menlo,'DejaVu Sans Mono',consolas,'Courier New',monospace\"><span style=\"color: #008000; text-decoration-color: #008000\">DEBUG   </span> ### Analyst Recommendations for TSLA and NVDA                                                             \n",
       "         |  | TSLA | NVDA |                                                                                        \n",
       "         | --- | --- | --- |                                                                                       \n",
       "         | Strong Buy | <span style=\"color: #008080; text-decoration-color: #008080; font-weight: bold\">7</span> | <span style=\"color: #008080; text-decoration-color: #008080; font-weight: bold\">12</span> |                                                                                   \n",
       "         | Buy | <span style=\"color: #008080; text-decoration-color: #008080; font-weight: bold\">13</span> | <span style=\"color: #008080; text-decoration-color: #008080; font-weight: bold\">47</span> |                                                                                         \n",
       "         | Hold | <span style=\"color: #008080; text-decoration-color: #008080; font-weight: bold\">15</span> | <span style=\"color: #008080; text-decoration-color: #008080; font-weight: bold\">4</span> |                                                                                         \n",
       "         | Sell | <span style=\"color: #008080; text-decoration-color: #008080; font-weight: bold\">9</span> | <span style=\"color: #008080; text-decoration-color: #008080; font-weight: bold\">0</span> |                                                                                          \n",
       "         | Strong Sell | <span style=\"color: #008080; text-decoration-color: #008080; font-weight: bold\">4</span> | <span style=\"color: #008080; text-decoration-color: #008080; font-weight: bold\">0</span> |                                                                                   \n",
       "                                                                                                                   \n",
       "                                                                                                                   \n",
       "</pre>\n"
      ],
      "text/plain": [
       "\u001b[32mDEBUG   \u001b[0m ### Analyst Recommendations for TSLA and NVDA                                                             \n",
       "         |  | TSLA | NVDA |                                                                                        \n",
       "         | --- | --- | --- |                                                                                       \n",
       "         | Strong Buy | \u001b[1;36m7\u001b[0m | \u001b[1;36m12\u001b[0m |                                                                                   \n",
       "         | Buy | \u001b[1;36m13\u001b[0m | \u001b[1;36m47\u001b[0m |                                                                                         \n",
       "         | Hold | \u001b[1;36m15\u001b[0m | \u001b[1;36m4\u001b[0m |                                                                                         \n",
       "         | Sell | \u001b[1;36m9\u001b[0m | \u001b[1;36m0\u001b[0m |                                                                                          \n",
       "         | Strong Sell | \u001b[1;36m4\u001b[0m | \u001b[1;36m0\u001b[0m |                                                                                   \n",
       "                                                                                                                   \n",
       "                                                                                                                   \n"
      ]
     },
     "metadata": {},
     "output_type": "display_data"
    },
    {
     "data": {
      "text/html": [
       "<pre style=\"white-space:pre;overflow-x:auto;line-height:normal;font-family:Menlo,'DejaVu Sans Mono',consolas,'Courier New',monospace\"><span style=\"color: #008000; text-decoration-color: #008000\">DEBUG   </span> Tool Calls: <span style=\"font-weight: bold\">[</span>                                                                                             \n",
       "           <span style=\"font-weight: bold\">{</span>                                                                                                       \n",
       "             <span style=\"color: #008000; text-decoration-color: #008000\">\"id\"</span>: <span style=\"color: #008000; text-decoration-color: #008000\">\"call_peg1\"</span>,                                                                                    \n",
       "             <span style=\"color: #008000; text-decoration-color: #008000\">\"type\"</span>: <span style=\"color: #008000; text-decoration-color: #008000\">\"function\"</span>,                                                                                   \n",
       "             <span style=\"color: #008000; text-decoration-color: #008000\">\"function\"</span>: <span style=\"font-weight: bold\">{</span>                                                                                         \n",
       "               <span style=\"color: #008000; text-decoration-color: #008000\">\"name\"</span>: <span style=\"color: #008000; text-decoration-color: #008000\">\"get_stock_fundamentals\"</span>,                                                                   \n",
       "               <span style=\"color: #008000; text-decoration-color: #008000\">\"arguments\"</span>: <span style=\"color: #008000; text-decoration-color: #008000\">\"{\\\"symbol\\\": \\\"TSLA\\\"}\"</span>                                                               \n",
       "             <span style=\"font-weight: bold\">}</span>                                                                                                     \n",
       "           <span style=\"font-weight: bold\">}</span>,                                                                                                      \n",
       "           <span style=\"font-weight: bold\">{</span>                                                                                                       \n",
       "             <span style=\"color: #008000; text-decoration-color: #008000\">\"id\"</span>: <span style=\"color: #008000; text-decoration-color: #008000\">\"call_f5wj\"</span>,                                                                                    \n",
       "             <span style=\"color: #008000; text-decoration-color: #008000\">\"type\"</span>: <span style=\"color: #008000; text-decoration-color: #008000\">\"function\"</span>,                                                                                   \n",
       "             <span style=\"color: #008000; text-decoration-color: #008000\">\"function\"</span>: <span style=\"font-weight: bold\">{</span>                                                                                         \n",
       "               <span style=\"color: #008000; text-decoration-color: #008000\">\"name\"</span>: <span style=\"color: #008000; text-decoration-color: #008000\">\"get_stock_fundamentals\"</span>,                                                                   \n",
       "               <span style=\"color: #008000; text-decoration-color: #008000\">\"arguments\"</span>: <span style=\"color: #008000; text-decoration-color: #008000\">\"{\\\"symbol\\\": \\\"NVDA\\\"}\"</span>                                                               \n",
       "             <span style=\"font-weight: bold\">}</span>                                                                                                     \n",
       "           <span style=\"font-weight: bold\">}</span>                                                                                                       \n",
       "         <span style=\"font-weight: bold\">]</span>                                                                                                         \n",
       "</pre>\n"
      ],
      "text/plain": [
       "\u001b[32mDEBUG   \u001b[0m Tool Calls: \u001b[1m[\u001b[0m                                                                                             \n",
       "           \u001b[1m{\u001b[0m                                                                                                       \n",
       "             \u001b[32m\"id\"\u001b[0m: \u001b[32m\"call_peg1\"\u001b[0m,                                                                                    \n",
       "             \u001b[32m\"type\"\u001b[0m: \u001b[32m\"function\"\u001b[0m,                                                                                   \n",
       "             \u001b[32m\"function\"\u001b[0m: \u001b[1m{\u001b[0m                                                                                         \n",
       "               \u001b[32m\"name\"\u001b[0m: \u001b[32m\"get_stock_fundamentals\"\u001b[0m,                                                                   \n",
       "               \u001b[32m\"arguments\"\u001b[0m: \u001b[32m\"\u001b[0m\u001b[32m{\u001b[0m\u001b[32m\\\"symbol\\\": \\\"TSLA\\\"\u001b[0m\u001b[32m}\u001b[0m\u001b[32m\"\u001b[0m                                                               \n",
       "             \u001b[1m}\u001b[0m                                                                                                     \n",
       "           \u001b[1m}\u001b[0m,                                                                                                      \n",
       "           \u001b[1m{\u001b[0m                                                                                                       \n",
       "             \u001b[32m\"id\"\u001b[0m: \u001b[32m\"call_f5wj\"\u001b[0m,                                                                                    \n",
       "             \u001b[32m\"type\"\u001b[0m: \u001b[32m\"function\"\u001b[0m,                                                                                   \n",
       "             \u001b[32m\"function\"\u001b[0m: \u001b[1m{\u001b[0m                                                                                         \n",
       "               \u001b[32m\"name\"\u001b[0m: \u001b[32m\"get_stock_fundamentals\"\u001b[0m,                                                                   \n",
       "               \u001b[32m\"arguments\"\u001b[0m: \u001b[32m\"\u001b[0m\u001b[32m{\u001b[0m\u001b[32m\\\"symbol\\\": \\\"NVDA\\\"\u001b[0m\u001b[32m}\u001b[0m\u001b[32m\"\u001b[0m                                                               \n",
       "             \u001b[1m}\u001b[0m                                                                                                     \n",
       "           \u001b[1m}\u001b[0m                                                                                                       \n",
       "         \u001b[1m]\u001b[0m                                                                                                         \n"
      ]
     },
     "metadata": {},
     "output_type": "display_data"
    },
    {
     "data": {
      "text/html": [
       "<pre style=\"white-space:pre;overflow-x:auto;line-height:normal;font-family:Menlo,'DejaVu Sans Mono',consolas,'Courier New',monospace\"><span style=\"color: #008000; text-decoration-color: #008000\">DEBUG   </span> Tool call Id: call_f5wj                                                                                   \n",
       "</pre>\n"
      ],
      "text/plain": [
       "\u001b[32mDEBUG   \u001b[0m Tool call Id: call_f5wj                                                                                   \n"
      ]
     },
     "metadata": {},
     "output_type": "display_data"
    },
    {
     "data": {
      "text/html": [
       "<pre style=\"white-space:pre;overflow-x:auto;line-height:normal;font-family:Menlo,'DejaVu Sans Mono',consolas,'Courier New',monospace\"><span style=\"color: #008000; text-decoration-color: #008000\">DEBUG   </span> <span style=\"font-weight: bold\">{</span>                                                                                                         \n",
       "           <span style=\"color: #008000; text-decoration-color: #008000\">\"symbol\"</span>: <span style=\"color: #008000; text-decoration-color: #008000\">\"NVDA\"</span>,                                                                                       \n",
       "           <span style=\"color: #008000; text-decoration-color: #008000\">\"company_name\"</span>: <span style=\"color: #008000; text-decoration-color: #008000\">\"NVIDIA Corporation\"</span>,                                                                   \n",
       "           <span style=\"color: #008000; text-decoration-color: #008000\">\"sector\"</span>: <span style=\"color: #008000; text-decoration-color: #008000\">\"Technology\"</span>,                                                                                 \n",
       "           <span style=\"color: #008000; text-decoration-color: #008000\">\"industry\"</span>: <span style=\"color: #008000; text-decoration-color: #008000\">\"Semiconductors\"</span>,                                                                           \n",
       "           <span style=\"color: #008000; text-decoration-color: #008000\">\"market_cap\"</span>: <span style=\"color: #008080; text-decoration-color: #008080; font-weight: bold\">3372518211584</span>,                                                                            \n",
       "           <span style=\"color: #008000; text-decoration-color: #008000\">\"pe_ratio\"</span>: <span style=\"color: #008080; text-decoration-color: #008080; font-weight: bold\">30.964718</span>,                                                                                  \n",
       "           <span style=\"color: #008000; text-decoration-color: #008000\">\"pb_ratio\"</span>: <span style=\"color: #008080; text-decoration-color: #008080; font-weight: bold\">78.96216</span>,                                                                                   \n",
       "           <span style=\"color: #008000; text-decoration-color: #008000\">\"dividend_yield\"</span>: <span style=\"color: #008080; text-decoration-color: #008080; font-weight: bold\">0.00029999999</span>,                                                                        \n",
       "           <span style=\"color: #008000; text-decoration-color: #008000\">\"eps\"</span>: <span style=\"color: #008080; text-decoration-color: #008080; font-weight: bold\">2.53</span>,                                                                                            \n",
       "           <span style=\"color: #008000; text-decoration-color: #008000\">\"beta\"</span>: <span style=\"color: #008080; text-decoration-color: #008080; font-weight: bold\">1.657</span>,                                                                                          \n",
       "           <span style=\"color: #008000; text-decoration-color: #008000\">\"52_week_high\"</span>: <span style=\"color: #008080; text-decoration-color: #008080; font-weight: bold\">153.13</span>,                                                                                 \n",
       "           <span style=\"color: #008000; text-decoration-color: #008000\">\"52_week_low\"</span>: <span style=\"color: #008080; text-decoration-color: #008080; font-weight: bold\">58.585</span>                                                                                   \n",
       "         <span style=\"font-weight: bold\">}</span>                                                                                                         \n",
       "</pre>\n"
      ],
      "text/plain": [
       "\u001b[32mDEBUG   \u001b[0m \u001b[1m{\u001b[0m                                                                                                         \n",
       "           \u001b[32m\"symbol\"\u001b[0m: \u001b[32m\"NVDA\"\u001b[0m,                                                                                       \n",
       "           \u001b[32m\"company_name\"\u001b[0m: \u001b[32m\"NVIDIA Corporation\"\u001b[0m,                                                                   \n",
       "           \u001b[32m\"sector\"\u001b[0m: \u001b[32m\"Technology\"\u001b[0m,                                                                                 \n",
       "           \u001b[32m\"industry\"\u001b[0m: \u001b[32m\"Semiconductors\"\u001b[0m,                                                                           \n",
       "           \u001b[32m\"market_cap\"\u001b[0m: \u001b[1;36m3372518211584\u001b[0m,                                                                            \n",
       "           \u001b[32m\"pe_ratio\"\u001b[0m: \u001b[1;36m30.964718\u001b[0m,                                                                                  \n",
       "           \u001b[32m\"pb_ratio\"\u001b[0m: \u001b[1;36m78.96216\u001b[0m,                                                                                   \n",
       "           \u001b[32m\"dividend_yield\"\u001b[0m: \u001b[1;36m0.00029999999\u001b[0m,                                                                        \n",
       "           \u001b[32m\"eps\"\u001b[0m: \u001b[1;36m2.53\u001b[0m,                                                                                            \n",
       "           \u001b[32m\"beta\"\u001b[0m: \u001b[1;36m1.657\u001b[0m,                                                                                          \n",
       "           \u001b[32m\"52_week_high\"\u001b[0m: \u001b[1;36m153.13\u001b[0m,                                                                                 \n",
       "           \u001b[32m\"52_week_low\"\u001b[0m: \u001b[1;36m58.585\u001b[0m                                                                                   \n",
       "         \u001b[1m}\u001b[0m                                                                                                         \n"
      ]
     },
     "metadata": {},
     "output_type": "display_data"
    },
    {
     "data": {
      "text/html": [
       "<pre style=\"white-space:pre;overflow-x:auto;line-height:normal;font-family:Menlo,'DejaVu Sans Mono',consolas,'Courier New',monospace\"><span style=\"color: #008000; text-decoration-color: #008000\">DEBUG   </span> ============== assistant ==============                                                                   \n",
       "</pre>\n"
      ],
      "text/plain": [
       "\u001b[32mDEBUG   \u001b[0m ============== assistant ==============                                                                   \n"
      ]
     },
     "metadata": {},
     "output_type": "display_data"
    },
    {
     "data": {
      "text/html": [
       "<pre style=\"white-space:pre;overflow-x:auto;line-height:normal;font-family:Menlo,'DejaVu Sans Mono',consolas,'Courier New',monospace\"><span style=\"color: #008000; text-decoration-color: #008000\">DEBUG   </span> ## Analyst Recommendations for TSLA and NVDA                                                              \n",
       "                                                                                                                   \n",
       "         | Stock Symbol | Strong Buy | Buy | Hold | Sell | Strong Sell |                                           \n",
       "         | --- | --- | --- | --- | --- | --- |                                                                     \n",
       "         | TSLA | <span style=\"color: #008080; text-decoration-color: #008080; font-weight: bold\">7</span> | <span style=\"color: #008080; text-decoration-color: #008080; font-weight: bold\">13</span> | <span style=\"color: #008080; text-decoration-color: #008080; font-weight: bold\">15</span> | <span style=\"color: #008080; text-decoration-color: #008080; font-weight: bold\">9</span> | <span style=\"color: #008080; text-decoration-color: #008080; font-weight: bold\">4</span> |                                                                            \n",
       "         | NVDA | <span style=\"color: #008080; text-decoration-color: #008080; font-weight: bold\">12</span> | <span style=\"color: #008080; text-decoration-color: #008080; font-weight: bold\">47</span> | <span style=\"color: #008080; text-decoration-color: #008080; font-weight: bold\">4</span> | <span style=\"color: #008080; text-decoration-color: #008080; font-weight: bold\">0</span> | <span style=\"color: #008080; text-decoration-color: #008080; font-weight: bold\">0</span> |                                                                            \n",
       "                                                                                                                   \n",
       "         ## Fundamentals for TSLA and NVDA                                                                         \n",
       "                                                                                                                   \n",
       "         | Stock Symbol | Company Name | Sector | Industry | Market Cap | PE Ratio | PB Ratio | Dividend Yield |   \n",
       "         EPS | Beta | <span style=\"color: #008080; text-decoration-color: #008080; font-weight: bold\">52</span> Week High | <span style=\"color: #008080; text-decoration-color: #008080; font-weight: bold\">52</span> Week Low |                                                                 \n",
       "         | --- | --- | --- | --- | --- | --- | --- | --- | --- | --- | --- | --- |                                 \n",
       "         | TSLA | Tesla, Inc. | Consumer Cyclical | Auto Manufacturers | <span style=\"color: #008080; text-decoration-color: #008080; font-weight: bold\">1369090555904</span> | <span style=\"color: #008080; text-decoration-color: #008080; font-weight: bold\">130.76765</span> | <span style=\"color: #008080; text-decoration-color: #008080; font-weight: bold\">19.558838</span> |   \n",
       "         N/A | <span style=\"color: #008080; text-decoration-color: #008080; font-weight: bold\">3.67</span> | <span style=\"color: #008080; text-decoration-color: #008080; font-weight: bold\">2.295</span> | <span style=\"color: #008080; text-decoration-color: #008080; font-weight: bold\">488.54</span> | <span style=\"color: #008080; text-decoration-color: #008080; font-weight: bold\">138.8</span> |                                                                     \n",
       "         | NVDA | NVIDIA Corporation | Technology | Semiconductors | <span style=\"color: #008080; text-decoration-color: #008080; font-weight: bold\">3372518211584</span> | <span style=\"color: #008080; text-decoration-color: #008080; font-weight: bold\">30.964718</span> | <span style=\"color: #008080; text-decoration-color: #008080; font-weight: bold\">78.96216</span> |        \n",
       "         <span style=\"color: #008080; text-decoration-color: #008080; font-weight: bold\">0.00029999999</span> | <span style=\"color: #008080; text-decoration-color: #008080; font-weight: bold\">2.53</span> | <span style=\"color: #008080; text-decoration-color: #008080; font-weight: bold\">1.657</span> | <span style=\"color: #008080; text-decoration-color: #008080; font-weight: bold\">153.13</span> | <span style=\"color: #008080; text-decoration-color: #008080; font-weight: bold\">58.585</span> |                                                          \n",
       "                                                                                                                   \n",
       "         In summary, both TSLA and NVDA have received positive analyst recommendations, with NVDA having a higher  \n",
       "         number of strong buy and buy recommendations. In terms of fundamentals, TSLA has a higher PE ratio and    \n",
       "         beta, while NVDA has a higher market cap and PB ratio. NVDA also has a higher EPS and dividend yield      \n",
       "         compared to TSLA.                                                                                         \n",
       "</pre>\n"
      ],
      "text/plain": [
       "\u001b[32mDEBUG   \u001b[0m ## Analyst Recommendations for TSLA and NVDA                                                              \n",
       "                                                                                                                   \n",
       "         | Stock Symbol | Strong Buy | Buy | Hold | Sell | Strong Sell |                                           \n",
       "         | --- | --- | --- | --- | --- | --- |                                                                     \n",
       "         | TSLA | \u001b[1;36m7\u001b[0m | \u001b[1;36m13\u001b[0m | \u001b[1;36m15\u001b[0m | \u001b[1;36m9\u001b[0m | \u001b[1;36m4\u001b[0m |                                                                            \n",
       "         | NVDA | \u001b[1;36m12\u001b[0m | \u001b[1;36m47\u001b[0m | \u001b[1;36m4\u001b[0m | \u001b[1;36m0\u001b[0m | \u001b[1;36m0\u001b[0m |                                                                            \n",
       "                                                                                                                   \n",
       "         ## Fundamentals for TSLA and NVDA                                                                         \n",
       "                                                                                                                   \n",
       "         | Stock Symbol | Company Name | Sector | Industry | Market Cap | PE Ratio | PB Ratio | Dividend Yield |   \n",
       "         EPS | Beta | \u001b[1;36m52\u001b[0m Week High | \u001b[1;36m52\u001b[0m Week Low |                                                                 \n",
       "         | --- | --- | --- | --- | --- | --- | --- | --- | --- | --- | --- | --- |                                 \n",
       "         | TSLA | Tesla, Inc. | Consumer Cyclical | Auto Manufacturers | \u001b[1;36m1369090555904\u001b[0m | \u001b[1;36m130.76765\u001b[0m | \u001b[1;36m19.558838\u001b[0m |   \n",
       "         N/A | \u001b[1;36m3.67\u001b[0m | \u001b[1;36m2.295\u001b[0m | \u001b[1;36m488.54\u001b[0m | \u001b[1;36m138.8\u001b[0m |                                                                     \n",
       "         | NVDA | NVIDIA Corporation | Technology | Semiconductors | \u001b[1;36m3372518211584\u001b[0m | \u001b[1;36m30.964718\u001b[0m | \u001b[1;36m78.96216\u001b[0m |        \n",
       "         \u001b[1;36m0.00029999999\u001b[0m | \u001b[1;36m2.53\u001b[0m | \u001b[1;36m1.657\u001b[0m | \u001b[1;36m153.13\u001b[0m | \u001b[1;36m58.585\u001b[0m |                                                          \n",
       "                                                                                                                   \n",
       "         In summary, both TSLA and NVDA have received positive analyst recommendations, with NVDA having a higher  \n",
       "         number of strong buy and buy recommendations. In terms of fundamentals, TSLA has a higher PE ratio and    \n",
       "         beta, while NVDA has a higher market cap and PB ratio. NVDA also has a higher EPS and dividend yield      \n",
       "         compared to TSLA.                                                                                         \n"
      ]
     },
     "metadata": {},
     "output_type": "display_data"
    },
    {
     "data": {
      "text/html": [
       "<pre style=\"white-space:pre;overflow-x:auto;line-height:normal;font-family:Menlo,'DejaVu Sans Mono',consolas,'Courier New',monospace\"><span style=\"color: #008000; text-decoration-color: #008000\">DEBUG   </span> **************** METRICS START ****************                                                           \n",
       "</pre>\n"
      ],
      "text/plain": [
       "\u001b[32mDEBUG   \u001b[0m **************** METRICS START ****************                                                           \n"
      ]
     },
     "metadata": {},
     "output_type": "display_data"
    },
    {
     "data": {
      "text/html": [
       "<pre style=\"white-space:pre;overflow-x:auto;line-height:normal;font-family:Menlo,'DejaVu Sans Mono',consolas,'Courier New',monospace\"><span style=\"color: #008000; text-decoration-color: #008000\">DEBUG   </span> * Time to first token:         <span style=\"color: #008080; text-decoration-color: #008080; font-weight: bold\">1.</span>1553s                                                                    \n",
       "</pre>\n"
      ],
      "text/plain": [
       "\u001b[32mDEBUG   \u001b[0m * Time to first token:         \u001b[1;36m1.\u001b[0m1553s                                                                    \n"
      ]
     },
     "metadata": {},
     "output_type": "display_data"
    },
    {
     "data": {
      "text/html": [
       "<pre style=\"white-space:pre;overflow-x:auto;line-height:normal;font-family:Menlo,'DejaVu Sans Mono',consolas,'Courier New',monospace\"><span style=\"color: #008000; text-decoration-color: #008000\">DEBUG   </span> * Time to generate response:   <span style=\"color: #008080; text-decoration-color: #008080; font-weight: bold\">2.</span>4142s                                                                    \n",
       "</pre>\n"
      ],
      "text/plain": [
       "\u001b[32mDEBUG   \u001b[0m * Time to generate response:   \u001b[1;36m2.\u001b[0m4142s                                                                    \n"
      ]
     },
     "metadata": {},
     "output_type": "display_data"
    },
    {
     "data": {
      "text/html": [
       "<pre style=\"white-space:pre;overflow-x:auto;line-height:normal;font-family:Menlo,'DejaVu Sans Mono',consolas,'Courier New',monospace\"><span style=\"color: #008000; text-decoration-color: #008000\">DEBUG   </span> * Tokens per second:           <span style=\"color: #008080; text-decoration-color: #008080; font-weight: bold\">0.0000</span> tokens/s                                                            \n",
       "</pre>\n"
      ],
      "text/plain": [
       "\u001b[32mDEBUG   \u001b[0m * Tokens per second:           \u001b[1;36m0.0000\u001b[0m tokens/s                                                            \n"
      ]
     },
     "metadata": {},
     "output_type": "display_data"
    },
    {
     "data": {
      "text/html": [
       "<pre style=\"white-space:pre;overflow-x:auto;line-height:normal;font-family:Menlo,'DejaVu Sans Mono',consolas,'Courier New',monospace\"><span style=\"color: #008000; text-decoration-color: #008000\">DEBUG   </span> * Input tokens:                <span style=\"color: #008080; text-decoration-color: #008080; font-weight: bold\">0</span>                                                                          \n",
       "</pre>\n"
      ],
      "text/plain": [
       "\u001b[32mDEBUG   \u001b[0m * Input tokens:                \u001b[1;36m0\u001b[0m                                                                          \n"
      ]
     },
     "metadata": {},
     "output_type": "display_data"
    },
    {
     "data": {
      "text/html": [
       "<pre style=\"white-space:pre;overflow-x:auto;line-height:normal;font-family:Menlo,'DejaVu Sans Mono',consolas,'Courier New',monospace\"><span style=\"color: #008000; text-decoration-color: #008000\">DEBUG   </span> * Output tokens:               <span style=\"color: #008080; text-decoration-color: #008080; font-weight: bold\">349</span>                                                                        \n",
       "</pre>\n"
      ],
      "text/plain": [
       "\u001b[32mDEBUG   \u001b[0m * Output tokens:               \u001b[1;36m349\u001b[0m                                                                        \n"
      ]
     },
     "metadata": {},
     "output_type": "display_data"
    },
    {
     "data": {
      "text/html": [
       "<pre style=\"white-space:pre;overflow-x:auto;line-height:normal;font-family:Menlo,'DejaVu Sans Mono',consolas,'Courier New',monospace\"><span style=\"color: #008000; text-decoration-color: #008000\">DEBUG   </span> * Total tokens:                <span style=\"color: #008080; text-decoration-color: #008080; font-weight: bold\">0</span>                                                                          \n",
       "</pre>\n"
      ],
      "text/plain": [
       "\u001b[32mDEBUG   \u001b[0m * Total tokens:                \u001b[1;36m0\u001b[0m                                                                          \n"
      ]
     },
     "metadata": {},
     "output_type": "display_data"
    },
    {
     "data": {
      "text/html": [
       "<pre style=\"white-space:pre;overflow-x:auto;line-height:normal;font-family:Menlo,'DejaVu Sans Mono',consolas,'Courier New',monospace\"><span style=\"color: #008000; text-decoration-color: #008000\">DEBUG   </span> **************** METRICS END ******************                                                           \n",
       "</pre>\n"
      ],
      "text/plain": [
       "\u001b[32mDEBUG   \u001b[0m **************** METRICS END ******************                                                           \n"
      ]
     },
     "metadata": {},
     "output_type": "display_data"
    },
    {
     "data": {
      "text/html": [
       "<pre style=\"white-space:pre;overflow-x:auto;line-height:normal;font-family:Menlo,'DejaVu Sans Mono',consolas,'Courier New',monospace\"><span style=\"color: #008000; text-decoration-color: #008000\">DEBUG   </span> ---------- Groq Response End ----------                                                                   \n",
       "</pre>\n"
      ],
      "text/plain": [
       "\u001b[32mDEBUG   \u001b[0m ---------- Groq Response End ----------                                                                   \n"
      ]
     },
     "metadata": {},
     "output_type": "display_data"
    },
    {
     "data": {
      "text/html": [
       "<pre style=\"white-space:pre;overflow-x:auto;line-height:normal;font-family:Menlo,'DejaVu Sans Mono',consolas,'Courier New',monospace\"><span style=\"color: #008000; text-decoration-color: #008000\">DEBUG   </span> ---------- Groq Response End ----------                                                                   \n",
       "</pre>\n"
      ],
      "text/plain": [
       "\u001b[32mDEBUG   \u001b[0m ---------- Groq Response End ----------                                                                   \n"
      ]
     },
     "metadata": {},
     "output_type": "display_data"
    },
    {
     "data": {
      "text/html": [
       "<pre style=\"white-space:pre;overflow-x:auto;line-height:normal;font-family:Menlo,'DejaVu Sans Mono',consolas,'Courier New',monospace\"><span style=\"color: #008000; text-decoration-color: #008000\">DEBUG   </span> ---------- Groq Response End ----------                                                                   \n",
       "</pre>\n"
      ],
      "text/plain": [
       "\u001b[32mDEBUG   \u001b[0m ---------- Groq Response End ----------                                                                   \n"
      ]
     },
     "metadata": {},
     "output_type": "display_data"
    },
    {
     "data": {
      "text/html": [
       "<pre style=\"white-space:pre;overflow-x:auto;line-height:normal;font-family:Menlo,'DejaVu Sans Mono',consolas,'Courier New',monospace\"><span style=\"color: #008000; text-decoration-color: #008000\">DEBUG   </span> Added <span style=\"color: #008080; text-decoration-color: #008080; font-weight: bold\">8</span> Messages to AgentMemory                                                                           \n",
       "</pre>\n"
      ],
      "text/plain": [
       "\u001b[32mDEBUG   \u001b[0m Added \u001b[1;36m8\u001b[0m Messages to AgentMemory                                                                           \n"
      ]
     },
     "metadata": {},
     "output_type": "display_data"
    },
    {
     "data": {
      "text/html": [
       "<pre style=\"white-space:pre;overflow-x:auto;line-height:normal;font-family:Menlo,'DejaVu Sans Mono',consolas,'Courier New',monospace\"><span style=\"color: #008000; text-decoration-color: #008000\">DEBUG   </span> Added AgentRun to AgentMemory                                                                             \n",
       "</pre>\n"
      ],
      "text/plain": [
       "\u001b[32mDEBUG   \u001b[0m Added AgentRun to AgentMemory                                                                             \n"
      ]
     },
     "metadata": {},
     "output_type": "display_data"
    },
    {
     "data": {
      "text/html": [
       "<pre style=\"white-space:pre;overflow-x:auto;line-height:normal;font-family:Menlo,'DejaVu Sans Mono',consolas,'Courier New',monospace\"><span style=\"color: #008000; text-decoration-color: #008000\">DEBUG   </span> --**-- Logging Agent Run                                                                                  \n",
       "</pre>\n"
      ],
      "text/plain": [
       "\u001b[32mDEBUG   \u001b[0m --**-- Logging Agent Run                                                                                  \n"
      ]
     },
     "metadata": {},
     "output_type": "display_data"
    },
    {
     "data": {
      "text/html": [
       "<pre style=\"white-space:pre;overflow-x:auto;line-height:normal;font-family:Menlo,'DejaVu Sans Mono',consolas,'Courier New',monospace\"><span style=\"color: #008000; text-decoration-color: #008000\">DEBUG   </span> *********** Agent Run End: <span style=\"color: #ffff00; text-decoration-color: #ffff00\">8b641701-b5b3-4a4c-a0f9-02cf751e2eff</span> ***********                               \n",
       "</pre>\n"
      ],
      "text/plain": [
       "\u001b[32mDEBUG   \u001b[0m *********** Agent Run End: \u001b[93m8b641701-b5b3-4a4c-a0f9-02cf751e2eff\u001b[0m ***********                               \n"
      ]
     },
     "metadata": {},
     "output_type": "display_data"
    },
    {
     "data": {
      "text/html": [
       "<pre style=\"white-space:pre;overflow-x:auto;line-height:normal;font-family:Menlo,'DejaVu Sans Mono',consolas,'Courier New',monospace\"></pre>\n"
      ],
      "text/plain": []
     },
     "metadata": {},
     "output_type": "display_data"
    }
   ],
   "source": [
    "agent = Agent(\n",
    "    model=Groq(id=\"llama-3.3-70b-versatile\"),\n",
    "    tools=[YFinanceTools(stock_price=True, analyst_recommendations=True, stock_fundamentals=True), get_company_symbol],\n",
    "    instructions=[\n",
    "        \"Use tables to display data.\",\n",
    "        \"If you need to find the symbol for a company, use the get_company_symbol tool.\",\n",
    "    ],\n",
    "    show_tool_calls=True,\n",
    "    markdown=True,\n",
    "    debug_mode=True,\n",
    ")\n",
    "agent.print_response(\n",
    "    \"Summarize and compare analyst recommendations and fundamentals for TSLA and NVDA. Show in tables.\", stream=True\n",
    ")"
   ]
  },
  {
   "cell_type": "markdown",
   "id": "db5ad99f-3aee-4e17-a884-0dae9a700c30",
   "metadata": {},
   "source": [
    "## Creating a AI agent for working as a team that is finance and web_agent."
   ]
  },
  {
   "cell_type": "code",
   "execution_count": 39,
   "id": "f2b819aa-5886-4937-9879-649a4580c559",
   "metadata": {},
   "outputs": [
    {
     "data": {
      "text/html": [
       "<pre style=\"white-space:pre;overflow-x:auto;line-height:normal;font-family:Menlo,'DejaVu Sans Mono',consolas,'Courier New',monospace\"><span style=\"color: #008000; text-decoration-color: #008000\">DEBUG   </span> Function: duckduckgo_search registered with duckduckgo                                                    \n",
       "</pre>\n"
      ],
      "text/plain": [
       "\u001b[32mDEBUG   \u001b[0m Function: duckduckgo_search registered with duckduckgo                                                    \n"
      ]
     },
     "metadata": {},
     "output_type": "display_data"
    },
    {
     "data": {
      "text/html": [
       "<pre style=\"white-space:pre;overflow-x:auto;line-height:normal;font-family:Menlo,'DejaVu Sans Mono',consolas,'Courier New',monospace\"><span style=\"color: #008000; text-decoration-color: #008000\">DEBUG   </span> Function: duckduckgo_news registered with duckduckgo                                                      \n",
       "</pre>\n"
      ],
      "text/plain": [
       "\u001b[32mDEBUG   \u001b[0m Function: duckduckgo_news registered with duckduckgo                                                      \n"
      ]
     },
     "metadata": {},
     "output_type": "display_data"
    },
    {
     "data": {
      "text/html": [
       "<pre style=\"white-space:pre;overflow-x:auto;line-height:normal;font-family:Menlo,'DejaVu Sans Mono',consolas,'Courier New',monospace\"><span style=\"color: #008000; text-decoration-color: #008000\">DEBUG   </span> *********** Agent ID: <span style=\"color: #ffff00; text-decoration-color: #ffff00\">3c07d03a-13ae-422f-8ac1-5bc5312a803e</span> ***********                                    \n",
       "</pre>\n"
      ],
      "text/plain": [
       "\u001b[32mDEBUG   \u001b[0m *********** Agent ID: \u001b[93m3c07d03a-13ae-422f-8ac1-5bc5312a803e\u001b[0m ***********                                    \n"
      ]
     },
     "metadata": {},
     "output_type": "display_data"
    },
    {
     "data": {
      "text/html": [
       "<pre style=\"white-space:pre;overflow-x:auto;line-height:normal;font-family:Menlo,'DejaVu Sans Mono',consolas,'Courier New',monospace\"><span style=\"color: #008000; text-decoration-color: #008000\">DEBUG   </span> *********** Session ID: <span style=\"color: #ffff00; text-decoration-color: #ffff00\">79df2c7c-e7b6-470e-87de-36fa70a49082</span> ***********                                  \n",
       "</pre>\n"
      ],
      "text/plain": [
       "\u001b[32mDEBUG   \u001b[0m *********** Session ID: \u001b[93m79df2c7c-e7b6-470e-87de-36fa70a49082\u001b[0m ***********                                  \n"
      ]
     },
     "metadata": {},
     "output_type": "display_data"
    }
   ],
   "source": [
    "web_agent = Agent(\n",
    "    name=\"Web Agent\",\n",
    "    model=Groq(id=\"llama-3.3-70b-versatile\"),\n",
    "    # model=OpenAIChat(id=\"gpt-4o\"), you can use OPENAI that is GPT as well.\n",
    "    tools=[DuckDuckGo()],\n",
    "    instructions=[\"Always include sources\"],\n",
    "    show_tool_calls=True,\n",
    "    markdown=True\n",
    ")\n",
    "\n",
    "finance_agent = Agent(\n",
    "    name=\"Finance Agent\",\n",
    "    role=\"Get financial data\",\n",
    "    model=Groq(id=\"llama-3.3-70b-versatile\"),\n",
    "    # model=OpenAIChat(id=\"gpt-4o\"), you can use OPENAI that is GPT as well.\n",
    "    tools=[YFinanceTools(stock_price=True, analyst_recommendations=True, company_info=True)],\n",
    "    instructions=[\"Use tables to display data\"],\n",
    "    show_tool_calls=True,\n",
    "    markdown=True,\n",
    ")"
   ]
  },
  {
   "cell_type": "code",
   "execution_count": 43,
   "id": "6f0f2553-797b-43a2-bcd5-01858cb4d270",
   "metadata": {},
   "outputs": [
    {
     "data": {
      "application/vnd.jupyter.widget-view+json": {
       "model_id": "15b2edce58ff4ec293cec30a9f7e79ca",
       "version_major": 2,
       "version_minor": 0
      },
      "text/plain": [
       "Output()"
      ]
     },
     "metadata": {},
     "output_type": "display_data"
    },
    {
     "data": {
      "text/html": [
       "<pre style=\"white-space:pre;overflow-x:auto;line-height:normal;font-family:Menlo,'DejaVu Sans Mono',consolas,'Courier New',monospace\"></pre>\n"
      ],
      "text/plain": []
     },
     "metadata": {},
     "output_type": "display_data"
    }
   ],
   "source": [
    "agent_team = Agent(\n",
    "    model=Groq(id=\"llama-3.3-70b-versatile\"),\n",
    "    team=[web_agent, finance_agent],\n",
    "    instructions=[\"Always include sources\", \"Use tables to display data\"],\n",
    "    show_tool_calls=True,\n",
    "    markdown=True\n",
    ")\n",
    "agent_team.print_response(\"Summarize analyst recommendations and share the latest news for NVDA\", stream=True,fail_generation=True)"
   ]
  },
  {
   "cell_type": "code",
   "execution_count": null,
   "id": "b702c7c8-0cd7-436c-8ecf-f50d04eaed05",
   "metadata": {},
   "outputs": [],
   "source": []
  }
 ],
 "metadata": {
  "kernelspec": {
   "display_name": "Python 3 (ipykernel)",
   "language": "python",
   "name": "python3"
  },
  "language_info": {
   "codemirror_mode": {
    "name": "ipython",
    "version": 3
   },
   "file_extension": ".py",
   "mimetype": "text/x-python",
   "name": "python",
   "nbconvert_exporter": "python",
   "pygments_lexer": "ipython3",
   "version": "3.11.2"
  }
 },
 "nbformat": 4,
 "nbformat_minor": 5
}
