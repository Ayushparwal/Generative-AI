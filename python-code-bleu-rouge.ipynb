{
 "cells": [
  {
   "cell_type": "code",
   "execution_count": 1,
   "id": "9a6c22aa-e4c0-4dec-b7d6-03ebdb5f39ff",
   "metadata": {},
   "outputs": [],
   "source": [
    "import pandas as pd\n",
    "import numpy as np\n",
    "import warnings\n",
    "import re\n",
    "import math"
   ]
  },
  {
   "cell_type": "code",
   "execution_count": 3,
   "id": "7204a16a-d5f3-419a-ab3b-97ce513d0456",
   "metadata": {},
   "outputs": [
    {
     "name": "stdout",
     "output_type": "stream",
     "text": [
      "Collecting rouge\n",
      "  Downloading rouge-1.0.1-py3-none-any.whl.metadata (4.1 kB)\n",
      "Requirement already satisfied: six in c:\\users\\ayush\\appdata\\local\\programs\\python\\python311\\lib\\site-packages (from rouge) (1.16.0)\n",
      "Downloading rouge-1.0.1-py3-none-any.whl (13 kB)\n",
      "Installing collected packages: rouge\n",
      "Successfully installed rouge-1.0.1\n",
      "Note: you may need to restart the kernel to use updated packages.\n"
     ]
    },
    {
     "name": "stderr",
     "output_type": "stream",
     "text": [
      "\n",
      "[notice] A new release of pip is available: 24.3.1 -> 25.0\n",
      "[notice] To update, run: python.exe -m pip install --upgrade pip\n"
     ]
    }
   ],
   "source": [
    "pip install rouge"
   ]
  },
  {
   "cell_type": "code",
   "execution_count": 4,
   "id": "5407fdd4-2dd0-4dd9-a515-af01fd6f6fe4",
   "metadata": {},
   "outputs": [],
   "source": [
    "import rouge"
   ]
  },
  {
   "cell_type": "code",
   "execution_count": 5,
   "id": "0d1935be-d4ab-4ceb-ad74-9a01d849e613",
   "metadata": {},
   "outputs": [],
   "source": [
    "from nltk.translate.bleu_score import sentence_bleu, SmoothingFunction\n",
    "from rouge import Rouge"
   ]
  },
  {
   "cell_type": "code",
   "execution_count": 6,
   "id": "e8f3d592-158c-4479-a5da-78e718cc7a4d",
   "metadata": {},
   "outputs": [],
   "source": [
    "# Sample reference and generated texts\n",
    "reference = \"The quick brown fox jumps over the lazy dog.\"\n",
    "generated = \"A quick fox jumps over a dog.\"\n"
   ]
  },
  {
   "cell_type": "code",
   "execution_count": 7,
   "id": "d3e6dc71-7d69-4eac-9667-884eecd3777f",
   "metadata": {},
   "outputs": [
    {
     "name": "stdout",
     "output_type": "stream",
     "text": [
      "BLEU Score: 0.1396\n"
     ]
    }
   ],
   "source": [
    "# BLEU Score Calculation\n",
    "smooth = SmoothingFunction().method1  # For better BLEU scores on short sentences\n",
    "bleu_score = sentence_bleu([reference.split()], generated.split(), smoothing_function=smooth)\n",
    "print(f\"BLEU Score: {bleu_score:.4f}\")"
   ]
  },
  {
   "cell_type": "code",
   "execution_count": 8,
   "id": "12f2af0e-961b-4ca0-8c20-c74bbd77527c",
   "metadata": {},
   "outputs": [
    {
     "name": "stdout",
     "output_type": "stream",
     "text": [
      "ROUGE Scores:\n",
      "rouge-1: Precision: 0.7143, Recall: 0.5556, F1: 0.6250\n",
      "rouge-2: Precision: 0.3333, Recall: 0.2500, F1: 0.2857\n",
      "rouge-l: Precision: 0.7143, Recall: 0.5556, F1: 0.6250\n"
     ]
    }
   ],
   "source": [
    "# ROUGE Score Calculation\n",
    "rouge = Rouge()\n",
    "scores = rouge.get_scores(generated, reference, avg=True)\n",
    "print(\"ROUGE Scores:\")\n",
    "for key, value in scores.items():\n",
    "    print(f\"{key}: Precision: {value['p']:.4f}, Recall: {value['r']:.4f}, F1: {value['f']:.4f}\")"
   ]
  },
  {
   "cell_type": "code",
   "execution_count": null,
   "id": "d909bc6a-fd36-4a9e-ad2f-eec337ad369e",
   "metadata": {},
   "outputs": [],
   "source": []
  }
 ],
 "metadata": {
  "kernelspec": {
   "display_name": "Python 3 (ipykernel)",
   "language": "python",
   "name": "python3"
  },
  "language_info": {
   "codemirror_mode": {
    "name": "ipython",
    "version": 3
   },
   "file_extension": ".py",
   "mimetype": "text/x-python",
   "name": "python",
   "nbconvert_exporter": "python",
   "pygments_lexer": "ipython3",
   "version": "3.11.2"
  }
 },
 "nbformat": 4,
 "nbformat_minor": 5
}
